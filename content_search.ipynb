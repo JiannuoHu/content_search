{
 "cells": [
  {
   "cell_type": "code",
   "execution_count": 80,
   "metadata": {},
   "outputs": [],
   "source": [
    "import pandas as pd\n",
    "import numpy as np\n",
    "import requests\n",
    "from bs4 import BeautifulSoup\n",
    "from datetime import datetime, timedelta"
   ]
  },
  {
   "cell_type": "code",
   "execution_count": 92,
   "metadata": {},
   "outputs": [],
   "source": [
    "date_range_high = datetime.today().date()\n",
    "date_range_low = datetime.today().date() - timedelta(days=7)"
   ]
  },
  {
   "cell_type": "code",
   "execution_count": 103,
   "metadata": {},
   "outputs": [],
   "source": [
    "### webscrape Reuters M&A News\n",
    "\n",
    "date_filter = date_range_high\n",
    "page_number = 1\n",
    "reuters_news_dict = {}\n",
    "\n",
    "while date_filter >= date_range_low:\n",
    "\n",
    "    reuters_raw = requests.get(\"https://www.reuters.com/news/archive/mergersnews?view=page&page={}&pageSize=10\".format(page_number))\n",
    "    reuters_content = reuters_raw.content\n",
    "    reuters_bs4 = BeautifulSoup(reuters_content)\n",
    "\n",
    "    reuters_news_block = reuters_bs4.find_all('div', class_ = 'column1 col col-10')\n",
    "    reuters_news_list  = reuters_news_block[0].find_all('h3', class_ = 'story-title')\n",
    "    reuters_timestamp_list = reuters_news_block[0].find_all('span', class_ = 'timestamp')\n",
    "\n",
    "    for i in range(len(reuters_news_list)):\n",
    "        title = reuters_news_list[i].get_text()\n",
    "        title = title.split('\\n\\t\\t\\t\\t\\t\\t\\t\\t')[1]\n",
    "\n",
    "        a_date = reuters_timestamp_list[i].get_text()\n",
    "        if 'am' in a_date or 'pm' in a_date:\n",
    "            a_date = datetime.today().date()\n",
    "        else:\n",
    "            a_date = datetime.strptime(a_date, \"%b %d %Y\").date()\n",
    "\n",
    "        reuters_news_dict[title] = a_date\n",
    "\n",
    "    date_filter = a_date\n",
    "    page_number += 1"
   ]
  },
  {
   "cell_type": "code",
   "execution_count": 104,
   "metadata": {},
   "outputs": [],
   "source": [
    "reuters_news_dict = {title: date for title, date in reuters_news_dict.items() if date >= date_range_low}"
   ]
  },
  {
   "cell_type": "code",
   "execution_count": 108,
   "metadata": {},
   "outputs": [
    {
     "data": {
      "text/plain": [
       "<Response [403]>"
      ]
     },
     "execution_count": 108,
     "metadata": {},
     "output_type": "execute_result"
    }
   ],
   "source": [
    "### webscrape Seeking Alpha M&A News\n",
    "\n",
    "page_number = 1\n",
    "requests.get(\"https://seekingalpha.com/market-news/m-a?page={}\".format(page_number))"
   ]
  },
  {
   "cell_type": "code",
   "execution_count": 107,
   "metadata": {},
   "outputs": [
    {
     "data": {
      "text/plain": [
       "{'UPDATE 4-Morgan Stanley outperforms rivals with profit beat': datetime.date(2022, 1, 19),\n",
       " \"UPDATE 4-Chinese regulator denies issuing guidelines on internet giants' investments, fundraisings\": datetime.date(2022, 1, 19),\n",
       " 'CORRECTED-UPDATE 2-Investing app Acorns, Pioneer SPAC scrap $2.2 bln merger (Jan. 18)': datetime.date(2022, 1, 19),\n",
       " 'EXCLUSIVE-Bain Capital nears $2.27 bln deal to buy French IT services firm Inetum -sources': datetime.date(2022, 1, 19),\n",
       " 'Morgan Stanley posts higher profit on M&A boom': datetime.date(2022, 1, 19),\n",
       " \"Epilepsy drug maker Zogenix soars on UCB's potential $2 bln deal\": datetime.date(2022, 1, 19),\n",
       " 'EXCLUSIVE-Bain Capital nears $2.27 bln deal to buy French IT services firm Inetum - sources': datetime.date(2022, 1, 19),\n",
       " 'UPDATE 1-GSK chief scientist Barron to leave for U.S. biotech start-up': datetime.date(2022, 1, 19),\n",
       " 'CORRECTED-GSK chief scientist Barron to leave for U.S. biotech start-up': datetime.date(2022, 1, 19),\n",
       " 'ANALYSIS-Sony faces deep-pocketed rivals in war over future of gaming': datetime.date(2022, 1, 19),\n",
       " \"Oman c.bank approves due diligence for Sohar Int'l Bank, Bank Nizwa merger\": datetime.date(2022, 1, 19),\n",
       " \"Microsoft deal to deliver $390 mln payday for Activision's embattled CEO\": datetime.date(2022, 1, 18),\n",
       " \"Mexico's Banorte is best placed to buy Citibanamex -BofA analysts\": datetime.date(2022, 1, 18),\n",
       " 'UPDATE 8-Microsoft to gobble up Activision in $69 billion metaverse bet': datetime.date(2022, 1, 18),\n",
       " \"UPDATE 3-Activist investor, takeover talk heap pressure on Kohl's Corp\": datetime.date(2022, 1, 18),\n",
       " 'UPDATE 6-Goldman profit hit by weaker trading, rising expenses; shares tumble': datetime.date(2022, 1, 18),\n",
       " \"UPDATE 1-Telecom Italia GM outlines plans as doubts on KKR's bid mount\": datetime.date(2022, 1, 18),\n",
       " 'UPDATE 1-Tesla investors urge judge to order Musk repay $13 bln for SolarCity deal': datetime.date(2022, 1, 18),\n",
       " 'REFILE-Tesla investors urge judge to order Musk repay $13 bln for SolarCity deal': datetime.date(2022, 1, 18),\n",
       " 'EXCLUSIVE-Principal Financial nears insurance units sale to Talcott Resolution -sources': datetime.date(2022, 1, 18),\n",
       " 'FACTBOX-Biggest deals in the consolidating videogame market': datetime.date(2022, 1, 18),\n",
       " \"EXCLUSIVE-Acacia Research contacts Kohl's to explore bid for retailer, sources say\": datetime.date(2022, 1, 18),\n",
       " \"UPDATE 1-Bidders for Germany's Aareal Bank lower acceptance threshold\": datetime.date(2022, 1, 18),\n",
       " 'Investing app Acorns, blank-check Pioneer end $2.2 bln merger': datetime.date(2022, 1, 18),\n",
       " 'Microsoft to buy Activision Blizzard in a deal at $68.7 billion': datetime.date(2022, 1, 18),\n",
       " 'UPDATE 2-Palihapitiya-backed SPAC to take biotech ProKidney public in $2.6 bln deal': datetime.date(2022, 1, 18),\n",
       " \"Telecom Italia GM to outline plans as doubts on KKR's bid mount\": datetime.date(2022, 1, 18),\n",
       " 'Goldman Sachs reports drop in quarterly profit ': datetime.date(2022, 1, 18),\n",
       " 'Palihapitiya-backed SPAC to take ProKidney public in over $2 bln deal': datetime.date(2022, 1, 18),\n",
       " \"Activist investor Macellum says Kohl's should explore strategic alternatives\": datetime.date(2022, 1, 18),\n",
       " 'Vivendi invests in digital communication group Progressif Media': datetime.date(2022, 1, 18),\n",
       " 'RPT-Bain Capital weighs bid for stake in Sodexo benefits unit – sources': datetime.date(2022, 1, 18),\n",
       " 'UPDATE 1-Hong Kong fund to sell Japan, S.Korea Burger King business in deal over $1bln - source': datetime.date(2022, 1, 18),\n",
       " 'After flying start, Stellantis must tackle Tesla and China': datetime.date(2022, 1, 17),\n",
       " 'Bain Capital weighs bid for stake in Sodexo benefits unit – sources': datetime.date(2022, 1, 17),\n",
       " 'UPDATE 2-Atlantia to buy Yunex Traffic from Siemens for $1 bln ': datetime.date(2022, 1, 17),\n",
       " \"Unilever's offer for GSK's consumer health raises doubts, questions over strategy\": datetime.date(2022, 1, 17),\n",
       " 'UPDATE 6-Dove soap maker Unilever signals pursuit of GSK consumer arm; shares fall': datetime.date(2022, 1, 17),\n",
       " 'ANALYSIS-Saudi-Polish deal dents Russian oil dominance in Baltic': datetime.date(2022, 1, 17),\n",
       " \"UPDATE 1-Axis Bank closing in on Citi India's consumer business - sources\": datetime.date(2022, 1, 17),\n",
       " \"Axis Bank closing in on Citi India's consumer business - sources\": datetime.date(2022, 1, 17),\n",
       " \"FACTBOX-GSK's consumer healthcare business coveted by Unilever \": datetime.date(2022, 1, 17),\n",
       " 'UPDATE 1-TotalEnergies, Inpex to sell their interests in Block 14 in Angola': datetime.date(2022, 1, 17),\n",
       " \"Fund Ardian buys Italy's Biofarma, founding family keeps 30% stake\": datetime.date(2022, 1, 17),\n",
       " 'Hong Kong fund to sell Japan, S.Korea Burger King business - Nikkei': datetime.date(2022, 1, 17),\n",
       " 'Cinda, under Beijing pressure, scraps $944 mln investment in Ant unit -sources': datetime.date(2022, 1, 17),\n",
       " \"UPDATE 1-UK's Clinigen agrees to sweetened $1.8 bln Triton take-private deal\": datetime.date(2022, 1, 17),\n",
       " \"UK's Clinigen agrees to sweetened $1.8 bln Triton take-private deal\": datetime.date(2022, 1, 17),\n",
       " 'TotalEnergies to sell its interest in Block 14 in Angola': datetime.date(2022, 1, 17),\n",
       " \"UPDATE 1-Unilever to weigh raising offer for GSK's consumer assets - Bloomberg\": datetime.date(2022, 1, 16),\n",
       " 'Unilever to weigh raising offer for Glaxo Consumer unit - Bloomberg  ': datetime.date(2022, 1, 16),\n",
       " 'UPDATE 5-GSK rejects 50-billion-pound Unilever offer for consumer assets': datetime.date(2022, 1, 15),\n",
       " 'GSK says it rejected 50 bln-pound Unilever bid for consumer assets': datetime.date(2022, 1, 15),\n",
       " 'Siltronic sale to GlobalWafers in limbo as German approval outstanding': datetime.date(2022, 1, 14),\n",
       " \"UPDATE 2-Brazil's BR Malls open to deals after rejecting Aliansce bid-source\": datetime.date(2022, 1, 14),\n",
       " \"Sixth Street Partners in final talks to buy stake in Eni's power unit - sources\": datetime.date(2022, 1, 14),\n",
       " \"Goldman Sachs' Petershill nears deal for Arsenal Capital stake -sources\": datetime.date(2022, 1, 14),\n",
       " 'Office Depot parent delays spin-off after new offer for consumer business': datetime.date(2022, 1, 14),\n",
       " 'Brazil mall operator Aliansce Sonae offers BR Malls a merger of equals': datetime.date(2022, 1, 14),\n",
       " \"UPDATE 7-Citi to sell Southeast Asia retail business in $3.7 bln deal to Singapore's UOB\": datetime.date(2022, 1, 14),\n",
       " \"REFILE-UPDATE 1-Japan's Hitachi to sell about 50% of its stake in construction unit \": datetime.date(2022, 1, 14),\n",
       " \"Japan's Hitachi to sell half of Hitachi Construction holdings\": datetime.date(2022, 1, 14),\n",
       " 'U.S. venture capital deals notched all-time high of $330 billion in 2021': datetime.date(2022, 1, 14),\n",
       " 'Zendesk sticks to Momentive takeover plan as activist investors protest ': datetime.date(2022, 1, 13),\n",
       " \"UPDATE 2-Mexican president urges investors to 'Mexicanize' Citi asset sale\": datetime.date(2022, 1, 13),\n",
       " 'Biogen eyes potential acquisitions - Stat News': datetime.date(2022, 1, 13),\n",
       " \"Mimecast spurns Proofpoint's higher take-private bid over antitrust concerns\": datetime.date(2022, 1, 13),\n",
       " 'U.S. oil and gas M&A activity slows in fourth quarter - Enverus ': datetime.date(2022, 1, 13),\n",
       " 'EXCLUSIVE-Brookfield puts power lines in Brazil on the block, sources say': datetime.date(2022, 1, 13),\n",
       " 'UPDATE 2-Monster Beverage to buy craft-beer maker in alcohol market drive': datetime.date(2022, 1, 13),\n",
       " 'Monster Beverage to buy hard seltzer maker CANarchy Craft for $330 mln ': datetime.date(2022, 1, 13),\n",
       " 'UPDATE 2-Hyundai, Daewoo tie-up gets EU antitrust veto': datetime.date(2022, 1, 13),\n",
       " 'Hyundai says may challenge EU veto against Daewoo deal': datetime.date(2022, 1, 13),\n",
       " 'EU antitrust regulators block Hyundai, Daewoo tie-up': datetime.date(2022, 1, 13),\n",
       " 'OMV subsidiary Borealis says sale of fertiliser business remains ongoing': datetime.date(2022, 1, 13),\n",
       " 'UPDATE 1-Premier Miton ends takeover talks with River and Mercantile, AssetCo talks ongoing': datetime.date(2022, 1, 13),\n",
       " 'UPDATE 1-Intertrust misses targets as attrition rates hurt productivity': datetime.date(2022, 1, 13),\n",
       " 'UPDATE 1-Hitachi to sell about half its stake in construction unit - NHK': datetime.date(2022, 1, 13),\n",
       " 'Hitachi to sell about half of its stake in construction unit - NHK': datetime.date(2022, 1, 13),\n",
       " 'UPDATE 5-Crown says likely to back improved $6.5 bln Blackstone buyout offer': datetime.date(2022, 1, 12),\n",
       " 'Chinese developer Shimao to hold creditor meetings to vote on ABS payment extension - documents': datetime.date(2022, 1, 12),\n",
       " 'EXCLUSIVE-DAZN nears deal to buy BT Sport for an estimated $800 mln - sources': datetime.date(2022, 1, 12),\n",
       " 'Brazilian startups raised a record $9.4 bln in 2021': datetime.date(2022, 1, 12),\n",
       " 'EXCLUSIVE-Tereos to exit malt business, eyes Romanian sugar unit closure': datetime.date(2022, 1, 12),\n",
       " \"UPDATE 2-ITA Airways seeks an ally to put 'money on the table' \": datetime.date(2022, 1, 12),\n",
       " 'UPDATE 2-Italy says it wants control of key Telecom Italia assets in any KKR bid': datetime.date(2022, 1, 12),\n",
       " 'EXCLUSIVE-Tereos to exit malt market, eyes Romanian sugar unit closure': datetime.date(2022, 1, 12),\n",
       " \"Investors lower 51job's go-private offer to $3.8 bln\": datetime.date(2022, 1, 12),\n",
       " \"UPDATE 1-UniCredit shares fall further on interest in Russia's Otkritie\": datetime.date(2022, 1, 12),\n",
       " 'UPDATE 3-Poland refiner PKN to sell Lotos assets to Aramco, MOL to complete takeover': datetime.date(2022, 1, 12),\n",
       " 'REFILE-UPDATE 1-Russian lender TCS buys Swiss crypto services firm Aximetria': datetime.date(2022, 1, 12),\n",
       " 'UPDATE 1-Desert Peak Minerals, Falcon Minerals to combine in $1.9 bln deal': datetime.date(2022, 1, 12),\n",
       " 'Desert Peak Minerals, Falcon Minerals to combine in $1.9 bln deal': datetime.date(2022, 1, 12),\n",
       " \"UniCredit shares fall further on interest in Russia's Otkritie\": datetime.date(2022, 1, 12),\n",
       " 'China Merchants Shekou plans $400 mln bond issuance to fund acquisitions ': datetime.date(2022, 1, 12),\n",
       " 'Softbank-backed Brazilian crypto firm acquires Portuguese exchange': datetime.date(2022, 1, 12)}"
      ]
     },
     "execution_count": 107,
     "metadata": {},
     "output_type": "execute_result"
    }
   ],
   "source": [
    "reuters_news_dict"
   ]
  }
 ],
 "metadata": {
  "interpreter": {
   "hash": "aee8b7b246df8f9039afb4144a1f6fd8d2ca17a180786b69acc140d282b71a49"
  },
  "kernelspec": {
   "display_name": "Python 3.9.8 64-bit",
   "language": "python",
   "name": "python3"
  },
  "language_info": {
   "codemirror_mode": {
    "name": "ipython",
    "version": 3
   },
   "file_extension": ".py",
   "mimetype": "text/x-python",
   "name": "python",
   "nbconvert_exporter": "python",
   "pygments_lexer": "ipython3",
   "version": "3.9.8"
  },
  "orig_nbformat": 4
 },
 "nbformat": 4,
 "nbformat_minor": 2
}
