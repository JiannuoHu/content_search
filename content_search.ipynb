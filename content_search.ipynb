{
 "cells": [
  {
   "cell_type": "code",
   "execution_count": 50,
   "metadata": {},
   "outputs": [],
   "source": [
    "### import required libraries\n",
    "\n",
    "import pandas as pd\n",
    "import numpy as np\n",
    "\n",
    "import requests\n",
    "from bs4 import BeautifulSoup\n",
    "from datetime import datetime, timedelta\n",
    "\n",
    "import time\n",
    "from selenium import webdriver\n",
    "from webdriver_manager.chrome import ChromeDriverManager\n",
    "from selenium.webdriver.common.by import By\n",
    "from selenium.webdriver.chrome.service import Service\n",
    "from selenium.webdriver.chrome.options import Options\n",
    "\n",
    "# import tweepy\n",
    "# from tweepy import Stream\n",
    "# from tweepy import OAuthHandler\n",
    "# from tweepy.streaming import StreamListener\n",
    "# import json"
   ]
  },
  {
   "cell_type": "code",
   "execution_count": 51,
   "metadata": {},
   "outputs": [],
   "source": [
    "### set date range for weekly report\n",
    "date_range_high = datetime.today().date()\n",
    "date_range_low = datetime.today().date() - timedelta(days=7)"
   ]
  },
  {
   "cell_type": "code",
   "execution_count": 52,
   "metadata": {},
   "outputs": [],
   "source": [
    "user_agent = 'Mozilla/5.0 (iPad; U; CPU OS 3_2_1 like Mac OS X; en-us) AppleWebKit/531.21.10 (KHTML, like Gecko) Mobile/7B405'"
   ]
  },
  {
   "cell_type": "markdown",
   "metadata": {},
   "source": [
    "#### Reuters M&A News"
   ]
  },
  {
   "cell_type": "code",
   "execution_count": 6,
   "metadata": {},
   "outputs": [],
   "source": [
    "### webscrape Reuters M&A News\n",
    "\n",
    "date_filter = date_range_high\n",
    "page_number = 1\n",
    "reuters_news_dict = {}\n",
    "reuters_news_url = \"https://www.reuters.com/news/archive/mergersnews?view=page&page={}&pageSize=10\"\n",
    "\n",
    "while date_filter >= date_range_low:\n",
    "\n",
    "    reuters_raw = requests.get(reuters_news_url.format(page_number), headers={'User-Agent': user_agent})\n",
    "    reuters_bs4 = BeautifulSoup(reuters_raw.content)\n",
    "\n",
    "    reuters_news_block = reuters_bs4.find_all('div', class_ = 'column1 col col-10')\n",
    "    reuters_news_list  = reuters_news_block[0].find_all('h3', class_ = 'story-title')\n",
    "    reuters_timestamp_list = reuters_news_block[0].find_all('span', class_ = 'timestamp')\n",
    "\n",
    "    for i in range(len(reuters_news_list)):\n",
    "        title = reuters_news_list[i].get_text()\n",
    "        title = title.split('\\n\\t\\t\\t\\t\\t\\t\\t\\t')[1]\n",
    "\n",
    "        a_date = reuters_timestamp_list[i].get_text()\n",
    "        if 'am' in a_date or 'pm' in a_date:\n",
    "            a_date = datetime.today().date()\n",
    "        else:\n",
    "            a_date = datetime.strptime(a_date, \"%b %d %Y\").date()\n",
    "\n",
    "        reuters_news_dict[title] = a_date\n",
    "\n",
    "    date_filter = a_date\n",
    "    page_number += 1"
   ]
  },
  {
   "cell_type": "code",
   "execution_count": 7,
   "metadata": {},
   "outputs": [],
   "source": [
    "reuters_news_dict = {title: date for title, date in reuters_news_dict.items() if date >= date_range_low}"
   ]
  },
  {
   "cell_type": "code",
   "execution_count": 8,
   "metadata": {},
   "outputs": [
    {
     "data": {
      "text/plain": [
       "111"
      ]
     },
     "execution_count": 8,
     "metadata": {},
     "output_type": "execute_result"
    }
   ],
   "source": [
    "len(reuters_news_dict)"
   ]
  },
  {
   "cell_type": "code",
   "execution_count": 9,
   "metadata": {},
   "outputs": [
    {
     "data": {
      "text/plain": [
       "{\"UPDATE 2-UniCredit unlikely to pursue deal for Russia's Otkritie, source says\": datetime.date(2022, 1, 24),\n",
       " \"UPDATE 1-Kohl's shares soar on takeover interest from Sycamore, Acacia\": datetime.date(2022, 1, 24),\n",
       " 'UPDATE 3-M&C Saatchi rejects improved offer from top shareholder': datetime.date(2022, 1, 24),\n",
       " \"Kohl's shares soar as Sycamore, Acacia show takeover interest\": datetime.date(2022, 1, 24),\n",
       " 'UPDATE 2-KKR buys Sparta, Raleigh bike maker Accell for $1.77 bln': datetime.date(2022, 1, 24),\n",
       " \"Brazil's sliding stock market makes M&A targets\": datetime.date(2022, 1, 24),\n",
       " \"SPAC linked to Trump's venture outperforms others in sector\": datetime.date(2022, 1, 24),\n",
       " 'UPDATE 1-Luxury goods group Kering to sell watches division': datetime.date(2022, 1, 24),\n",
       " \"Malaysia's Raya Airways denies acquisition talks with AirAsia\": datetime.date(2022, 1, 24),\n",
       " 'Luxury goods group Kering to sell Girard-Perregaux and Ulysse Nardin divisions': datetime.date(2022, 1, 24),\n",
       " \"Saudi Arabia's SABIC Agri-Nutrients plans to buy 49% of ETG Inputs Holdco\": datetime.date(2022, 1, 24),\n",
       " 'Wendel to buy anti-money laundering company ACAMS for $500 mln': datetime.date(2022, 1, 24),\n",
       " \"UPDATE 1-Temasek to acquire Bridgepoint's UK-based testing firm for $7 bln -sources\": datetime.date(2022, 1, 24),\n",
       " \"Temasek to buy Bridgepoint's UK-based testing firm for $7 bln-sources\": datetime.date(2022, 1, 23),\n",
       " \"UPDATE 1-Kohl's under fresh pressure as Sycamore expresses interest after Acacia made bid \": datetime.date(2022, 1, 23),\n",
       " 'UPDATE 1-Fortescue to buy Williams Advanced Engineering for $222 million': datetime.date(2022, 1, 23),\n",
       " 'Fortescue to buy Williams Advanced Engineering for $222 million': datetime.date(2022, 1, 23),\n",
       " \"Sycamore Partners approaches Kohl's with a potential takeover offer -Bloomberg News\": datetime.date(2022, 1, 23),\n",
       " 'China Evergrande appoints EV unit chairman as executive director ': datetime.date(2022, 1, 23),\n",
       " \"UPDATE 1-Germany's Lufthansa in talks to buy 40% stake in Italy's ITA Airways - sources\": datetime.date(2022, 1, 23),\n",
       " \"Germany's Lufthansa in talks to buy 40% stake in Italy's ITA Airways - sources\": datetime.date(2022, 1, 23),\n",
       " \"UPDATE 1-Germany's Lufthansa is set to buy 40% stake in Alitalia's successor ITA - paper\": datetime.date(2022, 1, 22),\n",
       " 'EXCLUSIVE-Vodafone and Iliad in talks to combine Italian units - sources': datetime.date(2022, 1, 22),\n",
       " \"Germany's Lufthansa is set to buy 40% stake in Alitalia's successor ITA - paper\": datetime.date(2022, 1, 22),\n",
       " \"Malaysia's AirAsia eyes air cargo carrier - media\": datetime.date(2022, 1, 21),\n",
       " 'Informa set to launch $1.6 bln sale of Citeline unit –sources': datetime.date(2022, 1, 21),\n",
       " \"UPDATE 4-China Evergrande's offshore debt, assets could be separated in restructuring - report\": datetime.date(2022, 1, 21),\n",
       " 'Iceland to sell remaining 65% of Islandsbanki': datetime.date(2022, 1, 21),\n",
       " 'Tokyo Gas, EWII to develop 1 GW of renewables in Nordics': datetime.date(2022, 1, 21),\n",
       " \"UPDATE 2-Former F1 team boss Jordan drops pursuit of UK's Playtech\": datetime.date(2022, 1, 21),\n",
       " \"UPDATE 2-Japan's Nippon Steel buys Thai steelmakers in $763 mln deal\": datetime.date(2022, 1, 21),\n",
       " 'UPDATE 1-Singtel, Grab acquire minority stakes in Indonesian bank': datetime.date(2022, 1, 21),\n",
       " 'UPDATE 1-Ad group M&C Saatchi lifts profit outlook, says FCA probe dropped': datetime.date(2022, 1, 21),\n",
       " 'Ad group M&C Saatchi says FCA drops probe, upgrades profit outlook': datetime.date(2022, 1, 21),\n",
       " 'Nippon Steel to buy Thai steelmakers for $300 mln ': datetime.date(2022, 1, 21),\n",
       " 'Singtel buys minority stake in Indonesian bank for about $35 mln ': datetime.date(2022, 1, 20),\n",
       " 'China Evergrande says wants to engage more help to deal with debt': datetime.date(2022, 1, 20),\n",
       " \"UPDATE 2-Banorte analyzing possible buy of Citi's Mexico consumer bank \": datetime.date(2022, 1, 20),\n",
       " 'Former F1 team boss Jordan pulls out of race to buy Playtech -FT': datetime.date(2022, 1, 20),\n",
       " 'UPDATE 3-Unilever strategy under scrutiny after short-lived GSK skirmish': datetime.date(2022, 1, 20),\n",
       " 'Shareholder Terry Smith labels Unilever\\'s GSK bid \"near death experience\"': datetime.date(2022, 1, 20),\n",
       " \"UPDATE 1-Brazil's Andrade Gutierrez extends deadline for bids for its CCR stake - sources\": datetime.date(2022, 1, 20),\n",
       " 'EXCLUSIVE-Unit Corp looks to sell Anadarko, Gulf Coast gas assets for $1 bln - sources': datetime.date(2022, 1, 20),\n",
       " \"EXCLUSIVE-Polish drug maker Polpharma working on bid for Advent's Zentiva - sources\": datetime.date(2022, 1, 20),\n",
       " 'Credit Suisse hires Berenberg analyst to lead EMEA healthcare investment banking -memo': datetime.date(2022, 1, 20),\n",
       " 'Vedanta to create $10 bln fund to bid for BPCL stake, other assets - chairman': datetime.date(2022, 1, 20),\n",
       " 'RPT-EXCLUSIVE-Chesapeake Energy nears $2.4 bln deal to buy Chief Oil & Gas -sources': datetime.date(2022, 1, 20),\n",
       " \"CORRECTED-Brazil's Andrade Gutierrez extends deadline for bids for its CCR stake - sources\": datetime.date(2022, 1, 20),\n",
       " 'Microsoft-Activision deal gives merger speculators a new darling': datetime.date(2022, 1, 20),\n",
       " 'LVMH\\'s Arnault says he has no intention to buy \"Le Figaro\" paper': datetime.date(2022, 1, 20),\n",
       " 'Unilever shares gain after opting not to lift bid for GSK assets': datetime.date(2022, 1, 20),\n",
       " 'UPDATE 4-Singapore lists first SPAC as Asia investors warm up to blank check firms': datetime.date(2022, 1, 20),\n",
       " 'CORRECTED-UPDATE 3- Unilever will not raise rejected 50 bln pound bid for GSK consumer arm ': datetime.date(2022, 1, 20),\n",
       " 'Game developer Nexon says it will sell Six Waves to Stillfront for $93 mln': datetime.date(2022, 1, 20),\n",
       " \"TIMELINE-Afterpay's meteoric rise as a lending pioneer\": datetime.date(2022, 1, 19),\n",
       " 'Private-equity firm BPEA sells Interplex to Blackstone in $1.6 bln deal': datetime.date(2022, 1, 19),\n",
       " \"UPDATE 1-Australia's Virtus Health gets $439 mln buyout bid from PE firm CapVest Partners\": datetime.date(2022, 1, 19),\n",
       " 'EXCLUSIVE-Chesapeake Energy nears $2.4 bln deal to buy Chief Oil & Gas -sources': datetime.date(2022, 1, 19),\n",
       " \"Australia's Virtus Health receives $439 mln buyout offer from CapVest Partners\": datetime.date(2022, 1, 19),\n",
       " 'Singapore makes bold foray into SPAC market, Temasek-backed firm lists on Thursday': datetime.date(2022, 1, 19),\n",
       " 'REFILE-Unilever says it will not increase 50 bln pound offer for GSK consumer business': datetime.date(2022, 1, 19),\n",
       " 'UPDATE 4-Morgan Stanley outperforms rivals with profit beat': datetime.date(2022, 1, 19),\n",
       " \"UPDATE 4-Chinese regulator denies issuing guidelines on internet giants' investments, fundraisings\": datetime.date(2022, 1, 19),\n",
       " 'CORRECTED-UPDATE 2-Investing app Acorns, Pioneer SPAC scrap $2.2 bln merger (Jan. 18)': datetime.date(2022, 1, 19),\n",
       " 'EXCLUSIVE-Bain Capital nears $2.27 bln deal to buy French IT services firm Inetum -sources': datetime.date(2022, 1, 19),\n",
       " 'Morgan Stanley posts higher profit on M&A boom': datetime.date(2022, 1, 19),\n",
       " \"Epilepsy drug maker Zogenix soars on UCB's potential $2 bln deal\": datetime.date(2022, 1, 19),\n",
       " 'EXCLUSIVE-Bain Capital nears $2.27 bln deal to buy French IT services firm Inetum - sources': datetime.date(2022, 1, 19),\n",
       " 'UPDATE 1-GSK chief scientist Barron to leave for U.S. biotech start-up': datetime.date(2022, 1, 19),\n",
       " 'CORRECTED-GSK chief scientist Barron to leave for U.S. biotech start-up': datetime.date(2022, 1, 19),\n",
       " 'ANALYSIS-Sony faces deep-pocketed rivals in war over future of gaming': datetime.date(2022, 1, 19),\n",
       " \"Oman c.bank approves due diligence for Sohar Int'l Bank, Bank Nizwa merger\": datetime.date(2022, 1, 19),\n",
       " \"Microsoft deal to deliver $390 mln payday for Activision's embattled CEO\": datetime.date(2022, 1, 18),\n",
       " \"Mexico's Banorte is best placed to buy Citibanamex -BofA analysts\": datetime.date(2022, 1, 18),\n",
       " 'UPDATE 8-Microsoft to gobble up Activision in $69 billion metaverse bet': datetime.date(2022, 1, 18),\n",
       " \"UPDATE 3-Activist investor, takeover talk heap pressure on Kohl's Corp\": datetime.date(2022, 1, 18),\n",
       " 'UPDATE 6-Goldman profit hit by weaker trading, rising expenses; shares tumble': datetime.date(2022, 1, 18),\n",
       " \"UPDATE 1-Telecom Italia GM outlines plans as doubts on KKR's bid mount\": datetime.date(2022, 1, 18),\n",
       " 'UPDATE 1-Tesla investors urge judge to order Musk repay $13 bln for SolarCity deal': datetime.date(2022, 1, 18),\n",
       " 'REFILE-Tesla investors urge judge to order Musk repay $13 bln for SolarCity deal': datetime.date(2022, 1, 18),\n",
       " 'EXCLUSIVE-Principal Financial nears insurance units sale to Talcott Resolution -sources': datetime.date(2022, 1, 18),\n",
       " 'FACTBOX-Biggest deals in the consolidating videogame market': datetime.date(2022, 1, 18),\n",
       " \"EXCLUSIVE-Acacia Research contacts Kohl's to explore bid for retailer, sources say\": datetime.date(2022, 1, 18),\n",
       " \"UPDATE 1-Bidders for Germany's Aareal Bank lower acceptance threshold\": datetime.date(2022, 1, 18),\n",
       " 'Investing app Acorns, blank-check Pioneer end $2.2 bln merger': datetime.date(2022, 1, 18),\n",
       " 'Microsoft to buy Activision Blizzard in a deal at $68.7 billion': datetime.date(2022, 1, 18),\n",
       " 'UPDATE 2-Palihapitiya-backed SPAC to take biotech ProKidney public in $2.6 bln deal': datetime.date(2022, 1, 18),\n",
       " \"Telecom Italia GM to outline plans as doubts on KKR's bid mount\": datetime.date(2022, 1, 18),\n",
       " 'Goldman Sachs reports drop in quarterly profit ': datetime.date(2022, 1, 18),\n",
       " 'Palihapitiya-backed SPAC to take ProKidney public in over $2 bln deal': datetime.date(2022, 1, 18),\n",
       " \"Activist investor Macellum says Kohl's should explore strategic alternatives\": datetime.date(2022, 1, 18),\n",
       " 'Vivendi invests in digital communication group Progressif Media': datetime.date(2022, 1, 18),\n",
       " 'RPT-Bain Capital weighs bid for stake in Sodexo benefits unit – sources': datetime.date(2022, 1, 18),\n",
       " 'UPDATE 1-Hong Kong fund to sell Japan, S.Korea Burger King business in deal over $1bln - source': datetime.date(2022, 1, 18),\n",
       " 'After flying start, Stellantis must tackle Tesla and China': datetime.date(2022, 1, 17),\n",
       " 'Bain Capital weighs bid for stake in Sodexo benefits unit – sources': datetime.date(2022, 1, 17),\n",
       " 'UPDATE 2-Atlantia to buy Yunex Traffic from Siemens for $1 bln ': datetime.date(2022, 1, 17),\n",
       " \"Unilever's offer for GSK's consumer health raises doubts, questions over strategy\": datetime.date(2022, 1, 17),\n",
       " 'UPDATE 6-Dove soap maker Unilever signals pursuit of GSK consumer arm; shares fall': datetime.date(2022, 1, 17),\n",
       " 'ANALYSIS-Saudi-Polish deal dents Russian oil dominance in Baltic': datetime.date(2022, 1, 17),\n",
       " \"UPDATE 1-Axis Bank closing in on Citi India's consumer business - sources\": datetime.date(2022, 1, 17),\n",
       " \"Axis Bank closing in on Citi India's consumer business - sources\": datetime.date(2022, 1, 17),\n",
       " \"FACTBOX-GSK's consumer healthcare business coveted by Unilever \": datetime.date(2022, 1, 17),\n",
       " 'UPDATE 1-TotalEnergies, Inpex to sell their interests in Block 14 in Angola': datetime.date(2022, 1, 17),\n",
       " \"Fund Ardian buys Italy's Biofarma, founding family keeps 30% stake\": datetime.date(2022, 1, 17),\n",
       " 'Hong Kong fund to sell Japan, S.Korea Burger King business - Nikkei': datetime.date(2022, 1, 17),\n",
       " 'Cinda, under Beijing pressure, scraps $944 mln investment in Ant unit -sources': datetime.date(2022, 1, 17),\n",
       " \"UPDATE 1-UK's Clinigen agrees to sweetened $1.8 bln Triton take-private deal\": datetime.date(2022, 1, 17),\n",
       " \"UK's Clinigen agrees to sweetened $1.8 bln Triton take-private deal\": datetime.date(2022, 1, 17),\n",
       " \"Unilever says GSK consumer arm 'strong strategic fit' for business\": datetime.date(2022, 1, 17),\n",
       " 'TotalEnergies to sell its interest in Block 14 in Angola': datetime.date(2022, 1, 17)}"
      ]
     },
     "execution_count": 9,
     "metadata": {},
     "output_type": "execute_result"
    }
   ],
   "source": [
    "reuters_news_dict"
   ]
  },
  {
   "cell_type": "markdown",
   "metadata": {},
   "source": [
    "#### Seeking Alpha M&A News"
   ]
  },
  {
   "cell_type": "code",
   "execution_count": 56,
   "metadata": {},
   "outputs": [],
   "source": [
    "### webscrape Seeking Alpha M&A News\n",
    "\n",
    "options = Options()\n",
    "# options.add_argument(\"start-maximized\")\n",
    "# options.add_argument('--headless')\n",
    "options.add_experimental_option(\"excludeSwitches\", [\"enable-automation\"])\n",
    "options.add_experimental_option('useAutomationExtension', False)\n",
    "\n",
    "s = Service('/Users/babyghost/.wdm/drivers/chromedriver/mac64/97.0.4692.71/chromedriver')\n",
    "driver = webdriver.Chrome(service= s, options=options); \n",
    "\n",
    "# driver = webdriver.Chrome(service = ChromeDriverManager().install(), options = options) ### figure out your chromedriver path"
   ]
  },
  {
   "cell_type": "code",
   "execution_count": 18,
   "metadata": {},
   "outputs": [
    {
     "ename": "IndexError",
     "evalue": "list index out of range",
     "output_type": "error",
     "traceback": [
      "\u001b[0;31m---------------------------------------------------------------------------\u001b[0m",
      "\u001b[0;31mIndexError\u001b[0m                                Traceback (most recent call last)",
      "Input \u001b[0;32mIn [18]\u001b[0m, in \u001b[0;36m<module>\u001b[0;34m\u001b[0m\n\u001b[1;32m      2\u001b[0m formatted_date_list \u001b[38;5;241m=\u001b[39m []\n\u001b[1;32m      4\u001b[0m driver\u001b[38;5;241m.\u001b[39mget(\u001b[38;5;124m'\u001b[39m\u001b[38;5;124mhttps://seekingalpha.com/market-news/m-a?page=1\u001b[39m\u001b[38;5;124m'\u001b[39m)\n\u001b[0;32m----> 6\u001b[0m article_block \u001b[38;5;241m=\u001b[39m \u001b[43mdriver\u001b[49m\u001b[38;5;241;43m.\u001b[39;49m\u001b[43mfind_elements\u001b[49m\u001b[43m(\u001b[49m\u001b[43mBy\u001b[49m\u001b[38;5;241;43m.\u001b[39;49m\u001b[43mXPATH\u001b[49m\u001b[43m,\u001b[49m\u001b[43m \u001b[49m\u001b[38;5;124;43m\"\u001b[39;49m\u001b[38;5;124;43m//*[@id=\u001b[39;49m\u001b[38;5;124;43m'\u001b[39;49m\u001b[38;5;124;43mcontent\u001b[39;49m\u001b[38;5;124;43m'\u001b[39;49m\u001b[38;5;124;43m]/div/div[2]/div/div[2]/section/div/div/div/div[2]\u001b[39;49m\u001b[38;5;124;43m\"\u001b[39;49m\u001b[43m)\u001b[49m\u001b[43m[\u001b[49m\u001b[38;5;241;43m0\u001b[39;49m\u001b[43m]\u001b[49m\u001b[38;5;241m.\u001b[39mtext\u001b[38;5;241m.\u001b[39msplit(\u001b[38;5;124m'\u001b[39m\u001b[38;5;130;01m\\n\u001b[39;00m\u001b[38;5;124m'\u001b[39m)\n\u001b[1;32m      8\u001b[0m \u001b[38;5;28;01mfor\u001b[39;00m i, j \u001b[38;5;129;01min\u001b[39;00m \u001b[38;5;28menumerate\u001b[39m(article_block):\n\u001b[1;32m      9\u001b[0m     \u001b[38;5;28;01mif\u001b[39;00m i\u001b[38;5;241m%\u001b[39m\u001b[38;5;241m2\u001b[39m \u001b[38;5;241m==\u001b[39m \u001b[38;5;241m0\u001b[39m:\n",
      "\u001b[0;31mIndexError\u001b[0m: list index out of range"
     ]
    }
   ],
   "source": [
    "article_list = []\n",
    "formatted_date_list = []\n",
    "\n",
    "driver.get('https://seekingalpha.com/market-news/m-a?page=1')\n",
    "\n",
    "article_block = driver.find_elements(By.XPATH, \"//*[@id='content']/div/div[2]/div/div[2]/section/div/div/div/div[2]\")[0].text.split('\\n')\n",
    "\n",
    "for i, j in enumerate(article_block):\n",
    "    if i%2 == 0:\n",
    "        article_list.append(j)\n",
    "\n",
    "date_list = driver.find_elements(By.XPATH, \"//*[@id='content']/div/div[3]/div/div[2]/section/div/div/div/div[2]/article[1]/div/div/footer/span[2]\")\n",
    "date_list = [i.text for i in date_list] \n",
    "\n",
    "for a_date in date_list:\n",
    "    if 'Today' in a_date:\n",
    "        a_date = datetime.today().date()\n",
    "    elif 'Yesterday' in a_date:\n",
    "        a_date = datetime.today().date() - timedelta(days = 1)\n",
    "    elif len(a_date.split(' ')) == 3:\n",
    "        a_date = a_date + ' ' + str(datetime.today().date().year)\n",
    "        a_date = datetime.strptime(a_date, \"%a, %b. %d %Y\").date()\n",
    "    else:\n",
    "        a_date = datetime.strptime(a_date, \"%a, %b. %d, %Y\").date()\n",
    "    \n",
    "    formatted_date_list.append(a_date)"
   ]
  },
  {
   "cell_type": "code",
   "execution_count": 17,
   "metadata": {},
   "outputs": [
    {
     "data": {
      "text/plain": [
       "[]"
      ]
     },
     "execution_count": 17,
     "metadata": {},
     "output_type": "execute_result"
    }
   ],
   "source": [
    "date_list"
   ]
  },
  {
   "cell_type": "code",
   "execution_count": 14,
   "metadata": {},
   "outputs": [],
   "source": [
    "seeking_alpha_news_dict = dict(zip(article_list, formatted_date_list))"
   ]
  },
  {
   "cell_type": "code",
   "execution_count": 15,
   "metadata": {},
   "outputs": [
    {
     "data": {
      "text/plain": [
       "{}"
      ]
     },
     "execution_count": 15,
     "metadata": {},
     "output_type": "execute_result"
    }
   ],
   "source": [
    "seeking_alpha_news_dict"
   ]
  },
  {
   "cell_type": "markdown",
   "metadata": {},
   "source": [
    "#### theMiddleMarket M&A News"
   ]
  },
  {
   "cell_type": "code",
   "execution_count": 42,
   "metadata": {},
   "outputs": [],
   "source": [
    "ma_news_url = 'https://www.themiddlemarket.com/latest-news'\n",
    "driver.get(ma_news_url)\n",
    "\n",
    "latest_news = driver.find_elements(By.XPATH,\"/html/body/main/div/div/div/div[1]/div/div\")\n",
    "latest_news = latest_news[0].text.split('\\n')\n",
    "\n",
    "ma_article_list = [i for count, i in enumerate(latest_news) if count%2 == 0 ] \n",
    "ma_date_list = [i for count, i in enumerate(latest_news) if count%2 != 0 ] \n",
    "theMiddleMarket_news_dict =  dict(zip(ma_article_list, ma_date_list))"
   ]
  },
  {
   "cell_type": "code",
   "execution_count": 43,
   "metadata": {},
   "outputs": [],
   "source": [
    "theMiddleMarket_news_dict = {key: datetime.strptime(value.title(), '%B %d, %Y').date() for key, value in theMiddleMarket_news_dict.items()}\n",
    "theMiddleMarket_news_dict = {title: date for title, date in theMiddleMarket_news_dict.items() if date >= date_range_low}"
   ]
  },
  {
   "cell_type": "code",
   "execution_count": 62,
   "metadata": {},
   "outputs": [],
   "source": [
    "# theMiddleMarket_news_dict"
   ]
  },
  {
   "cell_type": "markdown",
   "metadata": {},
   "source": [
    "#### New York Times Mergers News"
   ]
  },
  {
   "cell_type": "code",
   "execution_count": 57,
   "metadata": {},
   "outputs": [],
   "source": [
    "nyt_url = \"https://www.nytimes.com/topic/subject/mergers-acquisitions-and-divestitures\"\n",
    "driver.get(nyt_url)\n",
    "nyt_news_raw = driver.find_elements(By.XPATH, '//*[@id=\"collection-Mergers, Acquisitions and Divestitures\"]/div[1]/div')[0].text.split('\\n')"
   ]
  },
  {
   "cell_type": "code",
   "execution_count": 68,
   "metadata": {},
   "outputs": [],
   "source": [
    "index_list = []\n",
    "date_list = []\n",
    "for count, text in enumerate(nyt_news_raw):\n",
    "    try:\n",
    "        a_date = datetime.strptime(text, \"%b. %d, %Y\")\n",
    "        date_list.append(a_date)\n",
    "        index_list.append(count -2)\n",
    "    except:\n",
    "        pass\n",
    "    \n",
    "title_list = [nyt_news_raw[i] for i in index_list]\n",
    "nyt_ma_news_dict = dict(zip(title_list, date_list))"
   ]
  },
  {
   "cell_type": "code",
   "execution_count": null,
   "metadata": {},
   "outputs": [],
   "source": []
  },
  {
   "cell_type": "code",
   "execution_count": null,
   "metadata": {},
   "outputs": [],
   "source": []
  },
  {
   "cell_type": "code",
   "execution_count": null,
   "metadata": {},
   "outputs": [],
   "source": []
  },
  {
   "cell_type": "code",
   "execution_count": null,
   "metadata": {},
   "outputs": [],
   "source": []
  },
  {
   "cell_type": "code",
   "execution_count": null,
   "metadata": {},
   "outputs": [],
   "source": []
  },
  {
   "cell_type": "markdown",
   "metadata": {},
   "source": [
    "#### Monitor Twitter Keyword"
   ]
  },
  {
   "cell_type": "code",
   "execution_count": 7,
   "metadata": {},
   "outputs": [],
   "source": [
    "api_doc = pd.read_excel('jh_twitter_api_doc.xlsx')\n",
    "\n",
    "consumer_key = api_doc['key'][0]\n",
    "consumer_secret = api_doc['secret'][0]\n",
    "\n",
    "auth = tweepy.OAuthHandler(consumer_key, consumer_secret)"
   ]
  },
  {
   "cell_type": "code",
   "execution_count": 9,
   "metadata": {},
   "outputs": [],
   "source": [
    "try:\n",
    "    redirect_url = auth.get_authorization_url()\n",
    "except tweepy.TweepError:\n",
    "    print('Error! Failed to get request token.')"
   ]
  },
  {
   "cell_type": "code",
   "execution_count": 11,
   "metadata": {},
   "outputs": [],
   "source": [
    "# session.set('request_token', auth.request_token['oauth_token'])"
   ]
  },
  {
   "cell_type": "code",
   "execution_count": null,
   "metadata": {},
   "outputs": [],
   "source": [
    "auth.set_access_token(access_token, access_token_secret)\n",
    "\n",
    "api = tweepy.API(auth)\n",
    "\n",
    "public_tweets = api.home_timeline()\n",
    "for tweet in public_tweets:\n",
    "    print(tweet.text)"
   ]
  },
  {
   "cell_type": "code",
   "execution_count": null,
   "metadata": {},
   "outputs": [],
   "source": []
  }
 ],
 "metadata": {
  "interpreter": {
   "hash": "aee8b7b246df8f9039afb4144a1f6fd8d2ca17a180786b69acc140d282b71a49"
  },
  "kernelspec": {
   "display_name": "Python 3.9.8 64-bit",
   "language": "python",
   "name": "python3"
  },
  "language_info": {
   "codemirror_mode": {
    "name": "ipython",
    "version": 3
   },
   "file_extension": ".py",
   "mimetype": "text/x-python",
   "name": "python",
   "nbconvert_exporter": "python",
   "pygments_lexer": "ipython3",
   "version": "3.9.8"
  },
  "orig_nbformat": 4
 },
 "nbformat": 4,
 "nbformat_minor": 2
}
