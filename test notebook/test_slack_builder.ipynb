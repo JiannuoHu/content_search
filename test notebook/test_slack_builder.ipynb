{
 "cells": [
  {
   "cell_type": "code",
   "execution_count": 1,
   "metadata": {},
   "outputs": [],
   "source": [
    "### import required libraries\n",
    "\n",
    "import json"
   ]
  },
  {
   "cell_type": "code",
   "execution_count": 2,
   "metadata": {},
   "outputs": [],
   "source": [
    "res_list = [{'app_success': \"we couldn't find any revelant clients from the nyt news.\"},\n",
    "            {'app_success': \"we couldn't find any revelant clients from the wsj news.\"},\n",
    "            {'app_success': \"we couldn't find any revelant clients from the reuters news.\"},\n",
    "            {'app_success': \"we couldn't find any revelant clients from the reuters news.\"}]\n"
   ]
  },
  {
   "cell_type": "code",
   "execution_count": 6,
   "metadata": {},
   "outputs": [],
   "source": [
    "res_list = [{'app_success': \"we couldn't find any revelant clients from the nyt news.\"},\n",
    "            {'app_success': \"we couldn't find any revelant clients from the wsj news.\"},\n",
    "            {'app_success': \"we couldn't find any revelant clients from the reuters news.\"},\n",
    "            {'app_success': \"success\", \n",
    "            'records': [{'company':'jepg', 'broker': \"xxx\", \"broker_email\": \"xxx@cbre.com\", \"news\": [\"jepg acquired xxx\", \"jepg acquired xxx2\"]}]}]"
   ]
  },
  {
   "cell_type": "code",
   "execution_count": 10,
   "metadata": {},
   "outputs": [],
   "source": [
    "res_list = [{'app_success': \"we couldn't find any revelant clients from the nyt news.\"},\n",
    "            {'app_success': \"success\", 'records': [{'company':'jepg', 'broker': \"xxx\", \"broker_email\": \"xxx@cbre.com\", \"news\": [\"jepg acquired xxx3\"]}, \n",
    "                                                   {'company':'apple', 'broker': \"xxx\", \"broker_email\": \"xxx@cbre.com\", \"news\": [\"apple acquired xxx3\"]}]},\n",
    "            {'app_success': \"we couldn't find any revelant clients from the reuters news.\"},\n",
    "            {'app_success': \"success\", \n",
    "            'records': [{'company':'jepg', 'broker': \"xxx\", \"broker_email\": \"xxx@cbre.com\", \"news\": [\"jepg acquired xxx\", \"jepg acquired xxx2\"]}]}]"
   ]
  },
  {
   "cell_type": "code",
   "execution_count": 5,
   "metadata": {},
   "outputs": [
    {
     "name": "stdout",
     "output_type": "stream",
     "text": [
      "1\n"
     ]
    }
   ],
   "source": [
    "a = []\n",
    "b =\", \".join(a)\n",
    "if b == '':\n",
    "    print(1)"
   ]
  },
  {
   "cell_type": "code",
   "execution_count": 11,
   "metadata": {},
   "outputs": [],
   "source": [
    "slack_dict = {}\n",
    "slack_dict['content'] = []\n",
    "\n",
    "for each_web_result in res_list:\n",
    "    try:\n",
    "        for each_record in each_web_result['records']:\n",
    "            if slack_dict['content']:\n",
    "                if each_record['company'] in [i['company'] for i in slack_dict['content']]:\n",
    "                    for i in slack_dict['content']:\n",
    "                        if each_record['company'] == i['company'] and each_record['news'] not in i['news']:\n",
    "                            i['news'].extend(each_record['news'])\n",
    "                else:\n",
    "                    slack_dict['content'].append(each_record)\n",
    "            else:\n",
    "                slack_dict['content'].append(each_record)\n",
    "    except:\n",
    "        pass\n",
    "\n",
    "if slack_dict['content']:\n",
    "    slack_dict['message'] = 'Here are the important m&a news for the past 1 week.'\n",
    "else:\n",
    "    slack_dict['message'] = 'No important m&a news found for the past 1 week.'\n",
    "    del slack_dict['content']"
   ]
  },
  {
   "cell_type": "code",
   "execution_count": 12,
   "metadata": {},
   "outputs": [],
   "source": [
    "def convert_to_slack_block(slack_dict):\n",
    "\n",
    "    message = {\n",
    "        \"blocks\": [\n",
    "                    {\n",
    "                        \"type\": \"section\",\n",
    "                        \"text\": {\n",
    "                            \"type\": \"plain_text\",\n",
    "                            \"text\": slack_dict['message']\n",
    "                        }\n",
    "                    }\n",
    "                ]\n",
    "            }\n",
    "\n",
    "    if 'content' in slack_dict.keys():\n",
    "\n",
    "        content_list = slack_dict['content']\n",
    "        \n",
    "        for each_content in content_list:\n",
    "            message['blocks'].append({'type':'divider'})\n",
    "            one_block = list(each_content.values())\n",
    "\n",
    "            company_info = one_block[:3]\n",
    "            company_info[0] = \"*\" + company_info[0] + \"*\"\n",
    "            news = one_block[3]\n",
    "\n",
    "            num_space = (len(company_info) - len(news))\n",
    "            num_space_list = [' '] * num_space\n",
    "\n",
    "            if num_space>0:\n",
    "                news.extend(num_space_list)\n",
    "            elif num_space<0:\n",
    "                company_info.extend(num_space_list)\n",
    "            \n",
    "            fields = []\n",
    "            for i in range(len(company_info)):\n",
    "                fields.append({\"type\":\"mrkdwn\", \"text\": company_info[i]})\n",
    "                fields.append({\"type\":\"mrkdwn\", \"text\": news[i]})\n",
    "            \n",
    "            message['blocks'].append({\"type\": \"section\", \"fields\":fields})\n",
    "\n",
    "    return message"
   ]
  },
  {
   "cell_type": "code",
   "execution_count": 13,
   "metadata": {},
   "outputs": [
    {
     "data": {
      "text/plain": [
       "{'blocks': [{'type': 'section',\n",
       "   'text': {'type': 'plain_text',\n",
       "    'text': 'Here are the important m&a news for the past 1 week.'}},\n",
       "  {'type': 'divider'},\n",
       "  {'type': 'section',\n",
       "   'fields': [{'type': 'mrkdwn', 'text': '*jepg*'},\n",
       "    {'type': 'mrkdwn', 'text': 'jepg acquired xxx3'},\n",
       "    {'type': 'mrkdwn', 'text': 'xxx'},\n",
       "    {'type': 'mrkdwn', 'text': 'jepg acquired xxx'},\n",
       "    {'type': 'mrkdwn', 'text': 'xxx@cbre.com'},\n",
       "    {'type': 'mrkdwn', 'text': 'jepg acquired xxx2'}]},\n",
       "  {'type': 'divider'},\n",
       "  {'type': 'section',\n",
       "   'fields': [{'type': 'mrkdwn', 'text': '*apple*'},\n",
       "    {'type': 'mrkdwn', 'text': 'apple acquired xxx3'},\n",
       "    {'type': 'mrkdwn', 'text': 'xxx'},\n",
       "    {'type': 'mrkdwn', 'text': ' '},\n",
       "    {'type': 'mrkdwn', 'text': 'xxx@cbre.com'},\n",
       "    {'type': 'mrkdwn', 'text': ' '}]}]}"
      ]
     },
     "execution_count": 13,
     "metadata": {},
     "output_type": "execute_result"
    }
   ],
   "source": [
    "convert_to_slack_block(slack_dict)"
   ]
  },
  {
   "cell_type": "code",
   "execution_count": null,
   "metadata": {},
   "outputs": [],
   "source": []
  }
 ],
 "metadata": {
  "interpreter": {
   "hash": "aee8b7b246df8f9039afb4144a1f6fd8d2ca17a180786b69acc140d282b71a49"
  },
  "kernelspec": {
   "display_name": "Python 3.9.8 64-bit",
   "language": "python",
   "name": "python3"
  },
  "language_info": {
   "codemirror_mode": {
    "name": "ipython",
    "version": 3
   },
   "file_extension": ".py",
   "mimetype": "text/x-python",
   "name": "python",
   "nbconvert_exporter": "python",
   "pygments_lexer": "ipython3",
   "version": "3.9.10"
  },
  "orig_nbformat": 4
 },
 "nbformat": 4,
 "nbformat_minor": 2
}
