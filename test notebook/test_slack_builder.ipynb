{
 "cells": [
  {
   "cell_type": "code",
   "execution_count": 1,
   "metadata": {},
   "outputs": [],
   "source": [
    "### import required libraries\n",
    "import json"
   ]
  },
  {
   "cell_type": "code",
   "execution_count": 7,
   "metadata": {},
   "outputs": [],
   "source": [
    "res_list = [{'app_success': \"we couldn't find any revelant clients from the nyt news.\"},\n",
    "            {'app_success': \"we couldn't find any revelant clients from the wsj news.\"},\n",
    "            {'app_success': \"we couldn't find any revelant clients from the reuters news.\"},\n",
    "            {'app_success': \"we couldn't find any revelant clients from the middlemkt news.\"}]"
   ]
  },
  {
   "cell_type": "code",
   "execution_count": 15,
   "metadata": {},
   "outputs": [],
   "source": [
    "res_list = [{'app_success': \"we couldn't find any revelant clients from the nyt news.\"},\n",
    "            {'app_success': \"we couldn't find any revelant clients from the wsj news.\"},\n",
    "            {'app_success': \"we couldn't find any revelant clients from the reuters news.\"},\n",
    "            {'app_success': \"success\", \n",
    "            'records': [{'company':'jepg', 'broker': \"xxx\", \"broker_email\": \"xxx@cbre.com\", \"news\": [\"jepg acquired xxx\", \"jepg acquired xxx2\"]}]}]"
   ]
  },
  {
   "cell_type": "code",
   "execution_count": 17,
   "metadata": {},
   "outputs": [],
   "source": [
    "res_list = [{'app_success': \"we couldn't find any revelant clients from the nyt news.\"},\n",
    "            {'app_success': \"success\", 'records': [{'company':'jepg', 'broker': \"xxx\", \"broker_email\": \"xxx@cbre.com\", \"news\": [\"jepg acquired xxx3\"]}, \n",
    "                                                   {'company':'apple', 'broker': \"xxx\", \"broker_email\": \"xxx@cbre.com\", \"news\": [\"apple acquired xxx3\"]}]},\n",
    "            {'app_success': \"we couldn't find any revelant clients from the reuters news.\"},\n",
    "            {'app_success': \"success\", \n",
    "            'records': [{'company':'jepg', 'broker': \"xxx\", \"broker_email\": \"xxx@cbre.com\", \"news\": [\"jepg acquired xxx\", \"jepg acquired xxx2\"]}]}]"
   ]
  },
  {
   "cell_type": "code",
   "execution_count": 19,
   "metadata": {},
   "outputs": [],
   "source": [
    "def slack_json_builder(slack_dict):\n",
    "\n",
    "    message = {\n",
    "        \"blocks\": [\n",
    "                    {\n",
    "                        \"type\": \"section\",\n",
    "                        \"text\": {\n",
    "                            \"type\": \"plain_text\",\n",
    "                            \"text\": slack_dict['message']\n",
    "                        }\n",
    "                    }\n",
    "                ]\n",
    "            }\n",
    "\n",
    "    if 'content' in slack_dict.keys():\n",
    "\n",
    "        content_list = slack_dict['content']\n",
    "        \n",
    "        for each_content in content_list:\n",
    "            message['blocks'].append({'type':'divider'})\n",
    "            one_block = list(each_content.values())\n",
    "\n",
    "            company_info = one_block[:3]\n",
    "            company_info[0] = \"*\" + company_info[0] + \"*\"\n",
    "            news = one_block[3]\n",
    "\n",
    "            num_space = (len(company_info) - len(news))\n",
    "            num_space_list = [' '] * num_space\n",
    "\n",
    "            if num_space>0:\n",
    "                news.extend(num_space_list)\n",
    "            elif num_space<0:\n",
    "                company_info.extend(num_space_list)\n",
    "            \n",
    "            fields = []\n",
    "            \n",
    "            for i in range(len(company_info)):\n",
    "                fields.append({\"type\":\"mrkdwn\", \"text\": company_info[i]})\n",
    "                fields.append({\"type\":\"mrkdwn\", \"text\": news[i]})\n",
    "            \n",
    "            message['blocks'].append({\"type\": \"section\", \"fields\":fields})\n",
    "\n",
    "    return json.dump(message)"
   ]
  },
  {
   "cell_type": "code",
   "execution_count": 11,
   "metadata": {},
   "outputs": [],
   "source": [
    "def slack_error(message):\n",
    "    slack_dict = {}\n",
    "    slack_dict['message'] = message\n",
    "    slack_json = slack_json_builder(slack_dict)\n",
    "    return print(slack_json)"
   ]
  },
  {
   "cell_type": "code",
   "execution_count": 12,
   "metadata": {},
   "outputs": [],
   "source": [
    "def slack_success(slack_dict):\n",
    "\n",
    "    slack_json = slack_json_builder(slack_dict)\n",
    "    \n",
    "    return print(slack_json)"
   ]
  },
  {
   "cell_type": "code",
   "execution_count": 21,
   "metadata": {},
   "outputs": [
    {
     "name": "stdout",
     "output_type": "stream",
     "text": [
      "{'blocks': [{'type': 'section', 'text': {'type': 'plain_text', 'text': \"we couldn't find any revelant clients from the nyt news.\"}}]}\n",
      "{'blocks': [{'type': 'section', 'text': {'type': 'plain_text', 'text': \"we couldn't find any revelant clients from the reuters news.\"}}]}\n",
      "{'blocks': [{'type': 'section', 'text': {'type': 'plain_text', 'text': 'Here are the important m&a news for the past 1 week.'}}, {'type': 'divider'}, {'type': 'section', 'fields': [{'type': 'mrkdwn', 'text': '*jepg*'}, {'type': 'mrkdwn', 'text': 'jepg acquired xxx3'}, {'type': 'mrkdwn', 'text': 'xxx'}, {'type': 'mrkdwn', 'text': 'jepg acquired xxx'}, {'type': 'mrkdwn', 'text': 'xxx@cbre.com'}, {'type': 'mrkdwn', 'text': 'jepg acquired xxx2'}]}, {'type': 'divider'}, {'type': 'section', 'fields': [{'type': 'mrkdwn', 'text': '*apple*'}, {'type': 'mrkdwn', 'text': 'apple acquired xxx3'}, {'type': 'mrkdwn', 'text': 'xxx'}, {'type': 'mrkdwn', 'text': ' '}, {'type': 'mrkdwn', 'text': 'xxx@cbre.com'}, {'type': 'mrkdwn', 'text': ' '}]}]}\n"
     ]
    }
   ],
   "source": [
    "for result in res_list:\n",
    "    if result['app_success'] !='success':\n",
    "        slack_error(result['app_success'])\n",
    "\n",
    "have_results  = [result for result in res_list if result['app_success'] == 'success']\n",
    "\n",
    "if have_results !=[]:\n",
    "    slack_dict = {'content':[]}\n",
    "\n",
    "    for each_web_result in have_results:\n",
    "        for each_record in each_web_result['records']:\n",
    "            if slack_dict['content'] !=[]:\n",
    "                if each_record['company'] in [i['company'] for i in slack_dict['content']]:\n",
    "                    for i in slack_dict['content']:\n",
    "                        if each_record['company'] == i['company'] and each_record['news'] not in i['news']:\n",
    "                            i['news'].extend(each_record['news'])\n",
    "                else:\n",
    "                    slack_dict['content'].append(each_record)\n",
    "            else:\n",
    "                slack_dict['content'].append(each_record)\n",
    "\n",
    "    slack_dict['message'] = 'Here are the important m&a news for the past 1 week.'\n",
    "\n",
    "    slack_success(slack_dict)"
   ]
  },
  {
   "cell_type": "code",
   "execution_count": null,
   "metadata": {},
   "outputs": [],
   "source": []
  }
 ],
 "metadata": {
  "interpreter": {
   "hash": "aee8b7b246df8f9039afb4144a1f6fd8d2ca17a180786b69acc140d282b71a49"
  },
  "kernelspec": {
   "display_name": "Python 3.9.8 64-bit",
   "language": "python",
   "name": "python3"
  },
  "language_info": {
   "codemirror_mode": {
    "name": "ipython",
    "version": 3
   },
   "file_extension": ".py",
   "mimetype": "text/x-python",
   "name": "python",
   "nbconvert_exporter": "python",
   "pygments_lexer": "ipython3",
   "version": "3.9.10"
  },
  "orig_nbformat": 4
 },
 "nbformat": 4,
 "nbformat_minor": 2
}
