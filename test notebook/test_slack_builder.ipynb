{
 "cells": [
  {
   "cell_type": "code",
   "execution_count": 1,
   "metadata": {},
   "outputs": [],
   "source": [
    "### import required libraries\n",
    "import logging\n",
    "logging.basicConfig(level=logging.DEBUG)\n",
    "import json\n",
    "import requests"
   ]
  },
  {
   "cell_type": "code",
   "execution_count": 2,
   "metadata": {},
   "outputs": [],
   "source": [
    "res_list = [{'app_success': \"we couldn't find any revelant clients from the nyt news.\"},\n",
    "            {'app_success': \"we couldn't find any revelant clients from the wsj news.\"},\n",
    "            {'app_success': \"we couldn't find any revelant clients from the reuters news.\"},\n",
    "            {'app_success': \"we couldn't find any revelant clients from the middlemkt news.\"}]"
   ]
  },
  {
   "cell_type": "code",
   "execution_count": 3,
   "metadata": {},
   "outputs": [],
   "source": [
    "res_list = [{'app_success': \"we couldn't find any revelant clients from the nyt news.\"},\n",
    "            {'app_success': \"we couldn't find any revelant clients from the wsj news.\"},\n",
    "            {'app_success': \"we couldn't find any revelant clients from the reuters news.\"},\n",
    "            {'app_success': \"success\", \n",
    "            'records': [{'company':'jepg', 'broker': \"xxx\", \"broker_email\": \"xxx@cbre.com\", \"news\": [[\"jepg acquired xxx\",'www.link.com'], [\"jepg acquired xxx2\",'www.link.com']]}]}]"
   ]
  },
  {
   "cell_type": "code",
   "execution_count": 4,
   "metadata": {},
   "outputs": [],
   "source": [
    "res_list = [{'app_success': \"we couldn't find any revelant clients from the nyt news.\"},\n",
    "            {'app_success': \"success\", 'records': [{'company':'jepg', 'broker': \"xxx\", \"broker_email\": \"xxx@cbre.com\", \"news\": [[\"jepg acquired xxx3\",'www.link.com']]}, \n",
    "                                                   {'company':'apple', 'broker': \"xxx\", \"broker_email\": \"xxx@cbre.com\", \"news\": [[\"apple acquired xxx3\", 'www.link.com']]}]},\n",
    "            {'app_success': \"we couldn't find any revelant clients from the reuters news.\"},\n",
    "            {'app_success': \"success\", \n",
    "            'records': [{'company':'jepg', 'broker': \"xxx\", \"broker_email\": \"xxx@cbre.com\", \"news\": [[\"jepg acquired xxx\", 'www.link.com'], [\"jepg acquired xxx2\", 'www.link.com']]}]}]"
   ]
  },
  {
   "cell_type": "code",
   "execution_count": 5,
   "metadata": {},
   "outputs": [],
   "source": [
    "def slack_json_builder(slack_dict):\n",
    "\n",
    "    message = {\n",
    "        \"blocks\": [\n",
    "                    {\n",
    "                        \"type\": \"section\",\n",
    "                        \"text\": {\n",
    "                            \"type\": \"plain_text\",\n",
    "                            \"text\": slack_dict['message']\n",
    "                        }\n",
    "                    }\n",
    "                ]\n",
    "            }\n",
    "\n",
    "    if 'content' in slack_dict.keys():\n",
    "\n",
    "        content_list = slack_dict['content']\n",
    "        \n",
    "        for each_content in content_list:\n",
    "\n",
    "            message['blocks'].append({'type':'divider'})\n",
    "            \n",
    "            one_block = list(each_content.values())\n",
    "\n",
    "            company_info = one_block[:3]\n",
    "            company_info[0] = \"*\" + company_info[0] + \"*\"\n",
    "            news = one_block[3]\n",
    "\n",
    "            num_space = (len(company_info) - len(news))\n",
    "            num_space_list = [' '] * num_space\n",
    "\n",
    "            if num_space>0:\n",
    "                news.extend(num_space_list)\n",
    "            elif num_space<0:\n",
    "                company_info.extend(num_space_list)\n",
    "            \n",
    "            fields = []\n",
    "            \n",
    "            for i in range(len(company_info)):\n",
    "                fields.append({\"type\":\"mrkdwn\", \"text\": company_info[i]})\n",
    "\n",
    "                if news[i] != ' ':\n",
    "                    fields.append({\"type\":\"mrkdwn\", \"text\": \"<\"+ news[i][1] + \"|\" + news[i][0] + \">\"})\n",
    "                else:\n",
    "                    fields.append({\"type\":\"mrkdwn\", \"text\": news[i]})\n",
    "                    \n",
    "            message['blocks'].append({\"type\": \"section\", \"fields\":fields})\n",
    "\n",
    "    return message"
   ]
  },
  {
   "cell_type": "code",
   "execution_count": 6,
   "metadata": {},
   "outputs": [],
   "source": [
    "def talk_to_slack(slack_json, link):\n",
    "    \n",
    "    r = requests.post(url = link, \n",
    "                      json = slack_json,\n",
    "                      headers={'Content-type':'application/json'})\n",
    "                      \n",
    "    return 'sent message to slack'"
   ]
  },
  {
   "cell_type": "code",
   "execution_count": 7,
   "metadata": {},
   "outputs": [],
   "source": [
    "def slack_error(message):\n",
    "    slack_dict = {}\n",
    "    slack_dict['message'] = message\n",
    "    slack_json = slack_json_builder(slack_dict)\n",
    "\n",
    "    with open(\"../news_scrapper/combinor/slackchannel.json\") as f:  \n",
    "        links = json.load(f)\n",
    "        \n",
    "    link = links[0]['error_report']\n",
    "\n",
    "    talk_to_slack(slack_json, link)\n",
    "\n",
    "    return 'report error success'\n"
   ]
  },
  {
   "cell_type": "code",
   "execution_count": 19,
   "metadata": {},
   "outputs": [],
   "source": [
    "slack_dict = {'company':'abc', 'news':['aaa','bbb'], 'link': ['aaa.com', 'bbb.com']}\n",
    "slack_dict['combo'] = list(zip(slack_dict['news'], slack_dict['link']))\n",
    "\n",
    "del slack_dict['news']\n",
    "del slack_dict['link']"
   ]
  },
  {
   "cell_type": "code",
   "execution_count": 8,
   "metadata": {},
   "outputs": [],
   "source": [
    "def slack_success(slack_dict):\n",
    "\n",
    "    slack_json = slack_json_builder(slack_dict)\n",
    "\n",
    "    with open(\"../news_scrapper/combinor/slackchannel.json\") as f:  \n",
    "        links = json.load(f)\n",
    "\n",
    "    link = links[0]['news_report']\n",
    "\n",
    "    talk_to_slack(slack_json, link)\n",
    "    \n",
    "    return 'report news success'"
   ]
  },
  {
   "cell_type": "code",
   "execution_count": 11,
   "metadata": {},
   "outputs": [],
   "source": [
    "# for result in res_list:\n",
    "#     if result['app_success']!='success':\n",
    "        # slack_error(result['app_success'])\n",
    "\n",
    "have_results  = [result for result in res_list if result['app_success']== 'success']\n",
    "\n",
    "if have_results !=[]:\n",
    "    slack_dict = {'content':[]}\n",
    "\n",
    "    for each_web_result in have_results:\n",
    "        for each_record in each_web_result['records']:\n",
    "            if slack_dict['content'] !=[]:\n",
    "                if each_record['company'] in [i['company'] for i in slack_dict['content']]:\n",
    "                    for i in slack_dict['content']:\n",
    "                        if each_record['company'] == i['company'] and each_record['news'] not in i['news']:\n",
    "                            i['news'].extend(each_record['news'])\n",
    "                else:\n",
    "                    slack_dict['content'].append(each_record)\n",
    "            else:\n",
    "                slack_dict['content'].append(each_record)\n",
    "\n",
    "    slack_dict['message'] = 'Here are the important m&a news for the past 1 week.'\n",
    "    # slack_success(slack_dict)\n"
   ]
  },
  {
   "cell_type": "code",
   "execution_count": 13,
   "metadata": {},
   "outputs": [
    {
     "name": "stderr",
     "output_type": "stream",
     "text": [
      "DEBUG:urllib3.connectionpool:Starting new HTTPS connection (1): hooks.slack.com:443\n",
      "DEBUG:urllib3.connectionpool:https://hooks.slack.com:443 \"POST /services/T8T67PZAQ/B034Q9R6THD/nSeUQTDWQEeAcyYaneKHrU75 HTTP/1.1\" 200 22\n"
     ]
    },
    {
     "data": {
      "text/plain": [
       "'sent message to slack'"
      ]
     },
     "execution_count": 13,
     "metadata": {},
     "output_type": "execute_result"
    }
   ],
   "source": [
    "with open(\"../news_scrapper/combinor/slackchannel.json\") as f:  \n",
    "    links = json.load(f)\n",
    "\n",
    "link = links[0]['news_report']\n",
    "\n",
    "talk_to_slack(slack_json_builder(slack_dict), link)"
   ]
  }
 ],
 "metadata": {
  "interpreter": {
   "hash": "aee8b7b246df8f9039afb4144a1f6fd8d2ca17a180786b69acc140d282b71a49"
  },
  "kernelspec": {
   "display_name": "Python 3.9.8 64-bit",
   "language": "python",
   "name": "python3"
  },
  "language_info": {
   "codemirror_mode": {
    "name": "ipython",
    "version": 3
   },
   "file_extension": ".py",
   "mimetype": "text/x-python",
   "name": "python",
   "nbconvert_exporter": "python",
   "pygments_lexer": "ipython3",
   "version": "3.9.10"
  },
  "orig_nbformat": 4
 },
 "nbformat": 4,
 "nbformat_minor": 2
}
