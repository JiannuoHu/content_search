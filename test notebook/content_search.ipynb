{
 "cells": [
  {
   "cell_type": "code",
   "execution_count": 33,
   "metadata": {},
   "outputs": [],
   "source": [
    "### import required libraries\n",
    "import requests\n",
    "import time\n",
    "from bs4 import BeautifulSoup\n",
    "from datetime import datetime, timedelta\n",
    "from selenium import webdriver\n",
    "from selenium.webdriver.common.by import By\n",
    "from selenium.webdriver.chrome.service import Service\n",
    "from selenium.webdriver.chrome.options import Options"
   ]
  },
  {
   "cell_type": "code",
   "execution_count": 34,
   "metadata": {},
   "outputs": [],
   "source": [
    "### set date range for weekly report\n",
    "date_range_high = datetime.today().date()\n",
    "date_range_low = datetime.today().date() - timedelta(days=7)"
   ]
  },
  {
   "cell_type": "code",
   "execution_count": 35,
   "metadata": {},
   "outputs": [],
   "source": [
    "user_agent = 'Mozilla/5.0 (iPad; U; CPU OS 3_2_1 like Mac OS X; en-us) AppleWebKit/531.21.10 (KHTML, like Gecko) Mobile/7B405'"
   ]
  },
  {
   "cell_type": "markdown",
   "metadata": {},
   "source": [
    "#### Reuters M&A News"
   ]
  },
  {
   "cell_type": "code",
   "execution_count": 36,
   "metadata": {},
   "outputs": [],
   "source": [
    "### webscrape Reuters M&A News\n",
    "date_range_high = datetime.today().date()\n",
    "date_range_low = datetime.today().date() - timedelta(days=7)\n",
    "user_agent = 'Mozilla/5.0 (iPad; U; CPU OS 3_2_1 like Mac OS X; en-us) AppleWebKit/531.21.10 (KHTML, like Gecko) Mobile/7B405'\n",
    "\n",
    "date_filter = date_range_high\n",
    "page_number = 1\n",
    "reuters_news_dict = {}\n",
    "reuters_news_url = \"https://www.reuters.com/news/archive/mergersnews?view=page&page={}&pageSize=10\"\n",
    "\n",
    "while date_filter >= date_range_low:\n",
    "\n",
    "    reuters_raw = requests.get(reuters_news_url.format(page_number), headers={'User-Agent': user_agent})\n",
    "    reuters_bs4 = BeautifulSoup(reuters_raw.content, features=\"lxml\")\n",
    "\n",
    "    reuters_news_block = reuters_bs4.find_all('div', class_ = 'column1 col col-10')\n",
    "    reuters_news_list  = reuters_news_block[0].find_all('h3', class_ = 'story-title')\n",
    "    reuters_timestamp_list = reuters_news_block[0].find_all('span', class_ = 'timestamp')\n",
    "\n",
    "    link_list = [i.find('a')['href'] for i in reuters_news_block[0].find_all('div', class_ = 'story-content')]\n",
    "    link_list = ['reuters.com'+ i for i in link_list]\n",
    "\n",
    "    for i in range(len(reuters_news_list)):\n",
    "        title = reuters_news_list[i].get_text()\n",
    "        title = title.split('\\n\\t\\t\\t\\t\\t\\t\\t\\t')[1]\n",
    "\n",
    "        a_date = reuters_timestamp_list[i].get_text()\n",
    "        if 'am' in a_date or 'pm' in a_date:\n",
    "            a_date = datetime.today().date()\n",
    "        else:\n",
    "            a_date = datetime.strptime(a_date, \"%b %d %Y\").date()\n",
    "\n",
    "        reuters_news_dict[title] = [a_date, link_list[i]]\n",
    "\n",
    "    date_filter = a_date\n",
    "    page_number += 1\n"
   ]
  },
  {
   "cell_type": "code",
   "execution_count": 37,
   "metadata": {},
   "outputs": [],
   "source": [
    "reuters_news_dict = {title: info[1] for title, info in reuters_news_dict.items() if info[0] >= date_range_low}"
   ]
  },
  {
   "cell_type": "code",
   "execution_count": 38,
   "metadata": {},
   "outputs": [
    {
     "data": {
      "text/plain": [
       "{'UPDATE 2-Pembina, KKR ink deals to boost western Canada gas infrastructure': 'reuters.com/article/pembina-pipe-kkr-joint-venture/update-2-pembina-kkr-ink-deals-to-boost-western-canada-gas-infrastructure-idUSL4N2V43GS',\n",
       " 'Ukraine crisis poses new risks for Alitalia successor ITA - chairman': 'reuters.com/article/ita-airways/ukraine-crisis-poses-new-risks-for-alitalia-successor-ita-chairman-idUSL8N2V44SL',\n",
       " \"UPDATE 2-FTC prepares for possible challenge to Amazon's $8.5 bln MGM deal - The Information\": 'reuters.com/article/usa-ftc-antitrust-amazoncom/update-2-ftc-prepares-for-possible-challenge-to-amazons-8-5-bln-mgm-deal-the-information-idUSL4N2V40ML',\n",
       " \"U.S. FTC preparing for possible challenge to Amazon's $8.5 bln MGM deal - The Information\": 'reuters.com/article/usa-ftc-antitrust-amazoncom/u-s-ftc-preparing-for-possible-challenge-to-amazons-8-5-bln-mgm-deal-the-information-idUSL4N2V4090',\n",
       " \"UPDATE 1-'The new Atos' is on the way to recovery in 2022, CEO says\": 'reuters.com/article/atos-results/update-1-the-new-atos-is-on-the-way-to-recovery-in-2022-ceo-says-idUSL1N2V32RA',\n",
       " 'French IT firm Atos sets full-year guidance': 'reuters.com/article/atos-results/french-it-firm-atos-sets-full-year-guidance-idUSL8N2V34H7',\n",
       " 'Discovery says Licht to succeed Zucker as chief of CNN Global ': 'reuters.com/article/discovery-inc-cnn-licht/discovery-says-licht-to-succeed-zucker-as-chief-of-cnn-global-idUSL1N2V31Q1',\n",
       " 'UPDATE 4-TD expands in U.S. with $13.4 bln First Horizon purchase in its biggest-ever deal': 'reuters.com/article/first-horizon-bank-ma-td-bank-group/update-4-td-expands-in-u-s-with-13-4-bln-first-horizon-purchase-in-its-biggest-ever-deal-idUSL4N2V33TN',\n",
       " 'UPDATE 1-REIT WP Carey to buy Corporate Property Associates 18 in $2.7 bln deal': 'reuters.com/article/corporate-property-associates-18-ma-wp-c/update-1-reit-wp-carey-to-buy-corporate-property-associates-18-in-2-7-bln-deal-idUSL4N2V34SC',\n",
       " 'Oxford Instruments jumps on possible $2.4 bln takeover offer by Spectris ': 'reuters.com/article/oxford-ma-spectris/oxford-instruments-jumps-on-possible-2-4-bln-takeover-offer-by-spectris-idUSL4N2V34QW',\n",
       " 'UPDATE 3-Chevron raises clean energy bet with $3 bln Renewable Energy Group deal': 'reuters.com/article/renewable-energy-ma-chevron/update-3-chevron-raises-clean-energy-bet-with-3-bln-renewable-energy-group-deal-idUSL4N2V33VO',\n",
       " \"UPDATE 1-UAE bank's bid for Egypt's 'national champion' EFG may be too low\": 'reuters.com/article/efg-hermes-first-abu-dhabi-ma/update-1-uae-banks-bid-for-egypts-national-champion-efg-may-be-too-low-idUSL1N2V319J',\n",
       " 'UPDATE 1-Healthcare Trust of America, Healthcare Realty to combine in medical REIT deal': 'reuters.com/article/healthcare-trust-ma-healthcare-real/update-1-healthcare-trust-of-america-healthcare-realty-to-combine-in-medical-reit-deal-idUSL4N2V33WH',\n",
       " 'Healthcare Realty Trust to buy Healthcare Trust in $7.75 billion deal': 'reuters.com/article/healthcare-trust-ma-healthcare-real/healthcare-realty-trust-to-buy-healthcare-trust-in-7-75-billion-deal-idUSL4N2V33V0',\n",
       " 'Chevron to buy Renewable Energy Group in $3.15 deal ': 'reuters.com/article/renewable-energy-ma-chevron/chevron-to-buy-renewable-energy-group-in-3-15-deal-idUSL4N2V33G8',\n",
       " \"UAE bank's bid for Egypt's 'national champion' EFG may be too low\": 'reuters.com/article/efg-hermes-first-abu-dhabi-ma/uae-banks-bid-for-egypts-national-champion-efg-may-be-too-low-idUSL4N2UV06T',\n",
       " 'Toronto-Dominion Bank to buy First Horizon in $13 bln deal': 'reuters.com/article/first-horizon-bank-ma-td-bank-group/toronto-dominion-bank-to-buy-first-horizon-in-13-bln-deal-idUSL4N2V33SR',\n",
       " \"UPDATE 1-Ireland's CRH to sell U.S.-based unit to KPS for $3.8 billion\": 'reuters.com/article/crh-divestment/update-1-irelands-crh-to-sell-u-s-based-unit-to-kps-for-3-8-billion-idUSL4N2V332B',\n",
       " \"UPDATE 1-Retailer McColl's sinks 60% amid funding quest, profit warning\": 'reuters.com/article/mccolls-retail-outlook/update-1-retailer-mccolls-sinks-60-amid-funding-quest-profit-warning-idUSL4N2V32MS',\n",
       " \"Ireland's CRH plans to divest U.S.-based unit\": 'reuters.com/article/crh-divestment/irelands-crh-plans-to-divest-u-s-based-unit-idUSL4N2V32XO',\n",
       " \"British retailer McColl's gets interest for parts of business\": 'reuters.com/article/mccolls-retail-outlook/british-retailer-mccolls-gets-interest-for-parts-of-business-idUSL4N2V32HA',\n",
       " 'WRAPUP 2-Buffett laments lack of good investments even as Berkshire profit sets record': 'reuters.com/article/berkshire-buffett/wrapup-2-buffett-laments-lack-of-good-investments-even-as-berkshire-profit-sets-record-idUSL1N2UZ1XB',\n",
       " \"UAE's e& looks to expand in telecoms and other areas, including via M&A\": 'reuters.com/article/etisalat-group-strategy/uaes-e-looks-to-expand-in-telecoms-and-other-areas-including-via-ma-idUSL4N2V03CF',\n",
       " \"Japan's major newspapers to buy stake in ailing printing presses maker\": 'reuters.com/article/japan-ma-tokyo-kikai/japans-major-newspapers-to-buy-stake-in-ailing-printing-presses-maker-idUSL1N2V101A',\n",
       " \"Betsy Cohen's SPAC scraps $1.75 bln Pico merger deal \": 'reuters.com/article/pico-ma-ftac-athena/betsy-cohens-spac-scraps-1-75-bln-pico-merger-deal-idUSL4N2V04X3',\n",
       " 'UPDATE 1-Zendesk investors reject deal to buy SurveyMonkey parent': 'reuters.com/article/zendesk-momentive/update-1-zendesk-investors-reject-deal-to-buy-surveymonkey-parent-idUSL1N2V0369',\n",
       " 'UPDATE 1-Chevron nears $3 bln deal to buy Renewable Energy Group - Bloomberg News': 'reuters.com/article/renewable-energy-ma-chevron/update-1-chevron-nears-3-bln-deal-to-buy-renewable-energy-group-bloomberg-news-idUSL4N2V04OR',\n",
       " 'Chevron nears $3 bln deal to buy Renewable Energy Group - Bloomberg News': 'reuters.com/article/renewable-energy-ma-chevron/chevron-nears-3-bln-deal-to-buy-renewable-energy-group-bloomberg-news-idUSL4N2V04OB',\n",
       " 'Zendesk shareholders reject Momentive takeover ': 'reuters.com/article/zendesk-momentive-vote/zendesk-shareholders-reject-momentive-takeover-idUSL4N2V0459',\n",
       " 'UPDATE 1-Evergrande sells four projects to state-owned firms for $337 mln': 'reuters.com/article/china-property-debt-evergrande/update-1-evergrande-sells-four-projects-to-state-owned-firms-for-337-mln-idUSL1N2V013X',\n",
       " 'Otkritie Bank says will merge with Rosgosstrakh Bank in 2022': 'reuters.com/article/russia-banks-otkritie-rgs/otkritie-bank-says-will-merge-with-rosgosstrakh-bank-in-2022-idUSR4N2UT05J',\n",
       " 'UPDATE 1-Faurecia names finance chief Favre new head of Hella, appoints new CFO': 'reuters.com/article/faurecia-governance/update-1-faurecia-names-finance-chief-favre-new-head-of-hella-appoints-new-cfo-idUSL8N2V04WL',\n",
       " \"UPDATE 3-Cellnex's core earnings grow 63%, says Germany remains a target\": 'reuters.com/article/cellnex-telecom-results/update-3-cellnexs-core-earnings-grow-63-says-germany-remains-a-target-idUSL8N2V01FN',\n",
       " 'Faurecia names finance chief Favre new head of Hella, appoints new CFO ': 'reuters.com/article/faurecia-governance/faurecia-names-finance-chief-favre-new-head-of-hella-appoints-new-cfo-idUSFWN2V01UO',\n",
       " \"Abu Dhabi's ADIC and U.S. partner weigh sale of stake in OiLSERV - sources\": 'reuters.com/article/oilserv-ma/abu-dhabis-adic-and-u-s-partner-weigh-sale-of-stake-in-oilserv-sources-idUSL8N2V029K',\n",
       " \"Mike Ashley's Frasers buys Studio Retail, saving 1,500 jobs\": 'reuters.com/article/studio-retail-ma-frasers/mike-ashleys-frasers-buys-studio-retail-saving-1500-jobs-idUSL8N2V0460',\n",
       " 'UPDATE 2-Casino shares slump as 2021 profit falls, debt rises   ': 'reuters.com/article/casino-results/update-2-casino-shares-slump-as-2021-profit-falls-debt-rises-idUSL8N2V01GT',\n",
       " 'Two more Evergrande property assets taken over by state-owned firms': 'reuters.com/article/china-property-debt-evergrande/two-more-evergrande-property-assets-taken-over-by-state-owned-firms-idUSL1N2V00HL',\n",
       " \"Carvana to buy KAR Global's U.S. vehicle auction business for over $2 bln\": 'reuters.com/article/adesa-ma-carvana/carvana-to-buy-kar-globals-u-s-vehicle-auction-business-for-over-2-bln-idUSL4N2UZ6TC',\n",
       " \"UPDATE 5-U.S. sues to block UnitedHealth's $8 bln deal for Change Healthcare\": 'reuters.com/article/unitedhealth-change-healthcar-doj/update-5-u-s-sues-to-block-unitedhealths-8-bln-deal-for-change-healthcare-idUSL4N2UZ52E',\n",
       " 'CPI Property secures 53% stake in Immofinanz in tender offer': 'reuters.com/article/immofinanz-ma-cpiproperty/cpi-property-secures-53-stake-in-immofinanz-in-tender-offer-idUSL1N2UZ311',\n",
       " 'Cargotec, Konecranes win EU antitrust approval for $5 bln merger': 'reuters.com/article/konecranes-ma-cargotec-eu/cargotec-konecranes-win-eu-antitrust-approval-for-5-bln-merger-idUSL1N2UZ1U8',\n",
       " 'Telefonica has not detected suspicious activity linked to Russia on its networks': 'reuters.com/article/ukraine-crisis-telefonica/telefonica-has-not-detected-suspicious-activity-linked-to-russia-on-its-networks-idUSLUN2SO00J',\n",
       " ' Telefonica to set up unit to handle fibre network expansion with partner': 'reuters.com/article/telefonica-divestiture/-telefonica-to-set-up-unit-to-handle-fibre-network-expansion-with-partner-idUSLUN2SO00I',\n",
       " 'EXPLAINER-Why Europe’s mobile telecom market is ripe for consolidation': 'reuters.com/article/europe-telecoms/explainer-why-europes-mobile-telecom-market-is-ripe-for-consolidation-idUSL4N2US29A',\n",
       " \"FOCUS-Vodafone under pressure to test Europe's appetite for telecom takeovers \": 'reuters.com/article/europe-telecoms-vodafone/focus-vodafone-under-pressure-to-test-europes-appetite-for-telecom-takeovers-idUSL8N2US6RV',\n",
       " 'EDP Renewables to invest up to S$10 bln by 2030 for clean energy hub in Singapore': 'reuters.com/article/sunseap-ma-edp-renovaveis/edp-renewables-to-invest-up-to-s10-bln-by-2030-for-clean-energy-hub-in-singapore-idUSL1N2UZ0BG',\n",
       " \"UPDATE 2-Brazil hospital chain Rede D'or buys insurer SulAmerica for $2.6 bln\": 'reuters.com/article/sulamerica-ma-rede-dor/update-2-brazil-hospital-chain-rede-dor-buys-insurer-sulamerica-for-2-6-bln-idUSL1N2UY2RL',\n",
       " \"Brazil hospital chain Rede D'or acquires insurer SulAmerica in share swap deal \": 'reuters.com/article/sulamerica-ma-rede-dor/brazil-hospital-chain-rede-dor-acquires-insurer-sulamerica-in-share-swap-deal-idUSE1N2UJ01X',\n",
       " 'UPDATE 2-Boots in store for $10-billion sale as bid deadline looms': 'reuters.com/article/walgreens-boots-ma/update-2-boots-in-store-for-10-billion-sale-as-bid-deadline-looms-idUSL1N2UY15Z',\n",
       " 'UPDATE 4-Telecom Italia weighs sale of INWIT stake as workers stage strike': 'reuters.com/article/telecom-italia-strike/update-4-telecom-italia-weighs-sale-of-inwit-stake-as-workers-stage-strike-idUSL8N2UY1IN',\n",
       " 'UPDATE 1-Italian bank BPER gets offer from NEXI for merchant payment arm': 'reuters.com/article/bper-banca-nexi/update-1-italian-bank-bper-gets-offer-from-nexi-for-merchant-payment-arm-idUSL8N2UY58O',\n",
       " 'Boots in store for $10 bln sale as bid deadline looms': 'reuters.com/article/walgreens-boots-ma/boots-in-store-for-10-bln-sale-as-bid-deadline-looms-idUSL8N2UY4JT',\n",
       " 'Private equity-backed carbon offset vendors Bluesource, Element to merge ': 'reuters.com/article/bluesource-ma-element-markets/private-equity-backed-carbon-offset-vendors-bluesource-element-to-merge-idUSL8N2UY051',\n",
       " 'UPDATE 3-Danone plans further price hikes to offset cost inflation': 'reuters.com/article/danone-results/update-3-danone-plans-further-price-hikes-to-offset-cost-inflation-idUSL8N2UY1CK',\n",
       " 'UPDATE 1-UPS loses $2 billion euro claim for EU veto on TNT bid': 'reuters.com/article/eu-ups-ma/update-1-ups-loses-2-billion-euro-claim-for-eu-veto-on-tnt-bid-idUSL8N2UY3BU',\n",
       " 'EU court rejects UPS $2 billion claim for EU veto on TNT bid': 'reuters.com/article/eu-ups-ma/eu-court-rejects-ups-2-billion-claim-for-eu-veto-on-tnt-bid-idUSA5N2LS022',\n",
       " \"UPDATE 1-Germany's Hochtief makes A$1.47-bln bid for remaining shares of Australia's Cimic Group\": 'reuters.com/article/cimic-grp-ma-hochtief/update-1-germanys-hochtief-makes-a1-47-bln-bid-for-remaining-shares-of-australias-cimic-group-idUSL4N2UY1XC',\n",
       " 'UPDATE 1-Zhenro Properties plans to sell assets worth up to $644 mln in first half -sources': 'reuters.com/article/china-property-debt-zhenro/update-1-zhenro-properties-plans-to-sell-assets-worth-up-to-644-mln-in-first-half-sources-idUSL1N2UY0FK',\n",
       " \"China's Zhenro Properties plans to dispose assets worth up to $644 mln in H1-sources\": 'reuters.com/article/china-property-debt-zhenro/chinas-zhenro-properties-plans-to-dispose-assets-worth-up-to-644-mln-in-h1-sources-idUSB9N2UM007',\n",
       " 'UPDATE 1-Filmstar Leonardo DiCaprio invests in French champagne brand Telmont': 'reuters.com/article/celebrities-dicaprio-france-champagne/update-1-filmstar-leonardo-dicaprio-invests-in-french-champagne-brand-telmont-idUSL1N2UY0BN',\n",
       " 'Leonardo DiCaprio invests in French champagne brand Telmont': 'reuters.com/article/celebrities-dicaprio-france-champagne/leonardo-dicaprio-invests-in-french-champagne-brand-telmont-idUSFWN2UY00T',\n",
       " 'Danone unveils stronger-than expected Q4 sales, to give guidance on March 8 ': 'reuters.com/article/danone-results/danone-unveils-stronger-than-expected-q4-sales-to-give-guidance-on-march-8-idUSL8N2UW37U',\n",
       " \"CORRECTED-Fashion group Shandong Ruyi's creditors seek control of Lycra \": 'reuters.com/article/shandong-ruyi-debt-lycra/corrected-fashion-group-shandong-ruyis-creditors-seek-control-of-lycra-idUSL8N2UX38O',\n",
       " 'UPDATE 3-CNH sees revenues rising to 2024 as new plan focuses on precision agriculture': 'reuters.com/article/cnh-industrial-business-plan/update-3-cnh-sees-revenues-rising-to-2024-as-new-plan-focuses-on-precision-agriculture-idUSL8N2UX759',\n",
       " 'Telecom Italia to decide on KKR approach by mid-March': 'reuters.com/article/telecom-italia-ma-kkr/telecom-italia-to-decide-on-kkr-approach-by-mid-march-idUSL8N2UW2G7',\n",
       " 'UPDATE 2-Standard General to take U.S. broadcaster Tegna private in $5.4 bln deal': 'reuters.com/article/tegna-ma-standard-general/update-2-standard-general-to-take-u-s-broadcaster-tegna-private-in-5-4-bln-deal-idUSL4N2UX38X',\n",
       " \"RPT-COLUMN-Coal will exit Australia's power market despite AGL's recalcitrance: Russell\": 'reuters.com/article/column-russell-power-coal/rpt-column-coal-will-exit-australias-power-market-despite-agls-recalcitrance-russell-idUSL1N2UW200',\n",
       " 'UPDATE 1-Veritas Capital to buy Houghton Mifflin for $2.8 bln': 'reuters.com/article/houghton-miffin-ma-veritas-capital/update-1-veritas-capital-to-buy-houghton-mifflin-for-2-8-bln-idUSL4N2UX31N',\n",
       " 'UPDATE 2-Airbus, Safran consortium to buy fighter jet parts maker A&D ': 'reuters.com/article/eramat-ma/update-2-airbus-safran-consortium-to-buy-fighter-jet-parts-maker-ad-idUSL1N2UX0GU',\n",
       " 'Houghton Mifflin to be bought by Veritas Capital in $2.8 bln deal': 'reuters.com/article/houghton-miffin-ma-veritas-capital/houghton-mifflin-to-be-bought-by-veritas-capital-in-2-8-bln-deal-idUSL4N2UX307',\n",
       " \"Brookfield in talks to buy First Abu Dhabi Bank's payments arm in $1 bln deal - Bloomberg News\": 'reuters.com/article/magnati-ma-brookfield/brookfield-in-talks-to-buy-first-abu-dhabi-banks-payments-arm-in-1-bln-deal-bloomberg-news-idUSL4N2UX2WA',\n",
       " \"Oaktree hires Morgan Stanley to find investor in Italy's Banca Progetto - sources\": 'reuters.com/article/banca-progetto-ma-morgan-stanley/oaktree-hires-morgan-stanley-to-find-investor-in-italys-banca-progetto-sources-idUSL8N2UW4ML',\n",
       " 'UPDATE 1-London Stock Exchange buys TORA to boost digital drive': 'reuters.com/article/tora-ma-lse/update-1-london-stock-exchange-buys-tora-to-boost-digital-drive-idUSL4N2UX2C5',\n",
       " 'UPDATE 2-Worldline on a quest for M&A after sales beat, shares shoot up': 'reuters.com/article/worldline-results/update-2-worldline-on-a-quest-for-ma-after-sales-beat-shares-shoot-up-idUSL1N2UX0B0',\n",
       " 'UPDATE 1-EDF capital increase to take place in coming weeks, CEO says': 'reuters.com/article/edf-france/update-1-edf-capital-increase-to-take-place-in-coming-weeks-ceo-says-idUSL8N2UX23U',\n",
       " \"S.Korea gives conditional nod to Korean Air's Asiana Airlines purchase\": 'reuters.com/article/asiana-airlines-ma-kal-approval/s-korea-gives-conditional-nod-to-korean-airs-asiana-airlines-purchase-idUSL4N2UX21V',\n",
       " 'Eramet agrees to sell Aubert & Duval to aeronautics consortium': 'reuters.com/article/eramat-ma/eramet-agrees-to-sell-aubert-duval-to-aeronautics-consortium-idUSL8N2UX28R',\n",
       " 'London Stock Exchange to buy TORA for $325 million': 'reuters.com/article/tora-ma-lse/london-stock-exchange-to-buy-tora-for-325-million-idUSL4N2UX2AQ',\n",
       " 'French power group EDF would be open to investments from sovereign funds': 'reuters.com/article/edf-france/french-power-group-edf-would-be-open-to-investments-from-sovereign-funds-idUSFWN2UW0UC'}"
      ]
     },
     "execution_count": 38,
     "metadata": {},
     "output_type": "execute_result"
    }
   ],
   "source": [
    "reuters_news_dict "
   ]
  },
  {
   "cell_type": "markdown",
   "metadata": {},
   "source": [
    "#### WSJ Deals News"
   ]
  },
  {
   "cell_type": "code",
   "execution_count": 39,
   "metadata": {},
   "outputs": [],
   "source": [
    "def scrape_wsj_news(event, context):\n",
    "\n",
    "    date_range_high = datetime.today().date()\n",
    "    date_range_low = datetime.today().date() - timedelta(days=7)\n",
    "\n",
    "    user_agent = 'Mozilla/5.0 (iPad; U; CPU OS 3_2_1 like Mac OS X; en-us) AppleWebKit/531.21.10 (KHTML, like Gecko) Mobile/7B405'\n",
    "    wsj_deals_url = \"https://www.wsj.com/news/types/deals-deal-makers?page={}\"\n",
    "    page_number = 1\n",
    "    date_filter = date_range_high\n",
    "\n",
    "    title_list = []\n",
    "    date_list = []\n",
    "    link_list = []\n",
    "\n",
    "    while date_filter >= date_range_low:\n",
    "        wsj_raw = requests.get(wsj_deals_url.format(page_number), headers={'User-Agent': user_agent})\n",
    "        status = True\n",
    "        timer = 0\n",
    "\n",
    "        while status and timer <=9:\n",
    "            if wsj_raw.status_code != 200:\n",
    "                print(\"wsj page {} status code is not 200, entering sleep for 3 seconds\".format(page_number))\n",
    "                time.sleep(3)\n",
    "                timer += 3\n",
    "                wsj_raw = requests.get(wsj_deals_url.format(page_number), headers={'User-Agent': user_agent})\n",
    "            else:\n",
    "                status = False\n",
    "        \n",
    "        if wsj_raw.status_code == 200:\n",
    "\n",
    "            wsj_bs4 = BeautifulSoup(wsj_raw.content, features=\"lxml\")\n",
    "            article_list = wsj_bs4.select('h2[class*=\"headline\"]')\n",
    "            combined_ts = wsj_bs4.select('div[class*=\"timestamp\"]')\n",
    "\n",
    "            if article_list!=[] and combined_ts!=[]:\n",
    "\n",
    "                for article in article_list:\n",
    "                    content = article.get_text()\n",
    "                    link = article.find('a')['href']\n",
    "                    title_list.append(content)\n",
    "                    link_list.append(link)\n",
    "                    \n",
    "                for timestamp in combined_ts:\n",
    "                    try:\n",
    "                        a_date = timestamp.find('div').get_text()\n",
    "                        a_date = datetime.strptime(a_date, \"%B %d, %Y\").date()\n",
    "                        date_list.append(a_date)\n",
    "                    except:\n",
    "                        pass\n",
    "            else:\n",
    "                a_date = datetime.today().date() - timedelta(days=8)\n",
    "\n",
    "            date_filter = a_date\n",
    "            page_number += 1\n",
    "        \n",
    "        else:\n",
    "            date_filter = datetime.today().date() - timedelta(days=8)\n",
    "\n",
    "    wsj_news_dict = dict(zip(title_list, zip(date_list, link_list)))\n",
    "    wsj_news_dict = {title: info[1] for title, info in wsj_news_dict.items() if info[0] >= date_range_low}\n",
    "\n",
    "    return wsj_news_dict"
   ]
  },
  {
   "cell_type": "code",
   "execution_count": 40,
   "metadata": {},
   "outputs": [
    {
     "data": {
      "text/plain": [
       "{'Zendesk Scraps Deal With SurveyMonkey Parent': 'https://www.wsj.com/articles/zendesk-terminates-deal-with-surveymonkey-parent-11645830504',\n",
       " 'Healthcare Realty Trust Nears Deal With Healthcare Trust of America': 'https://www.wsj.com/articles/healthcare-realty-trust-nears-deal-with-healthcare-trust-of-america-11645741490',\n",
       " 'Standard General to Buy TV Broadcaster Tegna for $5.4 Billion': 'https://www.wsj.com/articles/standard-general-to-buy-tv-broadcaster-tegna-for-5-4-billion-11645548301',\n",
       " 'SoFi to Buy Technisys for About $1.1 Billion': 'https://www.wsj.com/articles/sofi-to-buy-banking-infrastructure-firm-technisys-for-about-1-1-billion-11645524001'}"
      ]
     },
     "execution_count": 40,
     "metadata": {},
     "output_type": "execute_result"
    }
   ],
   "source": [
    "scrape_wsj_news(None, None)"
   ]
  },
  {
   "cell_type": "markdown",
   "metadata": {},
   "source": [
    "#### New York Times Mergers News"
   ]
  },
  {
   "cell_type": "code",
   "execution_count": 41,
   "metadata": {},
   "outputs": [],
   "source": [
    "def scrape_nyt_news(event, context):\n",
    "    date_range_low = datetime.today().date() - timedelta(days=7)\n",
    "    user_agent = 'Mozilla/5.0 (iPad; U; CPU OS 3_2_1 like Mac OS X; en-us) AppleWebKit/531.21.10 (KHTML, like Gecko) Mobile/7B405'\n",
    "    ma_news_url = \"https://www.nytimes.com/topic/subject/mergers-acquisitions-and-divestitures\"\n",
    "    nyt_raw = requests.get(ma_news_url, headers={'User-Agent': user_agent})\n",
    "\n",
    "    status = True\n",
    "    timer = 0\n",
    "\n",
    "    while status and timer <=9:\n",
    "        if nyt_raw.status_code != 200:\n",
    "            print(\"nyt status code is not 200, entering sleep for 3 seconds\")\n",
    "            time.sleep(3)\n",
    "            timer += 3\n",
    "            nyt_raw = requests.get(ma_news_url, headers={'User-Agent': user_agent})\n",
    "        else:\n",
    "            status = False\n",
    "\n",
    "    title_list = []\n",
    "    date_list = []\n",
    "    link_list = []\n",
    "\n",
    "    if nyt_raw.status_code == 200:\n",
    "        nyt_content = BeautifulSoup(nyt_raw.content)\n",
    "\n",
    "        title_list = nyt_content.find_all('ol')[0].find_all('h2')\n",
    "        link_list = nyt_content.find_all('ol')[0].find_all('a')\n",
    "\n",
    "        if title_list !=[] and link_list !=[]:\n",
    "            try:\n",
    "                title_list = [i.get_text() for i in title_list]\n",
    "                temp_list = [i['href'].split('/')[1:4] for i in link_list]\n",
    "                link_list = [\"nytimes.com\"+i['href'] for i in link_list]\n",
    "                \n",
    "                for sub in temp_list:\n",
    "                    date_elements = [int(i) for i in sub]\n",
    "                    a_date = datetime(year = date_elements[0], month = date_elements[1], day = date_elements[2]).date()\n",
    "                    date_list.append(a_date)\n",
    "            except:\n",
    "                title_list = []\n",
    "                date_list = []\n",
    "                link_list = []\n",
    "        else:\n",
    "            title_list = []\n",
    "            date_list = []\n",
    "            link_list = []\n",
    "\n",
    "    nyt_ma_news_dict = dict(zip(title_list, zip(date_list,link_list)))\n",
    "    nyt_ma_news_dict = {title: info[1] for title, info in nyt_ma_news_dict.items() if info[0] >= date_range_low}\n",
    "\n",
    "    return nyt_ma_news_dict"
   ]
  },
  {
   "cell_type": "code",
   "execution_count": 42,
   "metadata": {},
   "outputs": [
    {
     "data": {
      "text/plain": [
       "{'Shell Quits Russia, Joining BP as Oil Giants Object to Attack on Ukraine': 'nytimes.com/2022/02/28/business/russia-oil-companies.html',\n",
       " 'Uber distances itself from Yandex.Taxi, the Russian ride-sharing service.': 'nytimes.com/2022/02/28/business/russia-uber-yandex-taxi.html',\n",
       " 'Neil Diamond Sells Entire Catalog to Universal Music': 'nytimes.com/2022/02/28/arts/music/neil-diamond-catalog-sale.html',\n",
       " 'Chris Licht, a Creator of ‘Morning Joe’ and ‘Colbert’ Producer, Is Set to Run CNN': 'nytimes.com/2022/02/26/business/media/cnn-chris-licht.html',\n",
       " 'Justice Dept. Sues to Block $13 Billion Deal by UnitedHealth Group': 'nytimes.com/2022/02/24/business/doj-antitrust-lawsuit-unitedhealth.html',\n",
       " 'Met Buys Italian Renaissance Bronze After Two Decades on the Hunt': 'nytimes.com/2022/02/23/arts/design/met-italian-renaissance-bronze-cavalli.html',\n",
       " 'Volkswagen is considering a plan to spin off Porsche in a public offering.': 'nytimes.com/2022/02/22/automobiles/volkswagen-porsche-ipo.html'}"
      ]
     },
     "execution_count": 42,
     "metadata": {},
     "output_type": "execute_result"
    }
   ],
   "source": [
    "scrape_nyt_news(None, None)"
   ]
  },
  {
   "cell_type": "code",
   "execution_count": 4,
   "metadata": {},
   "outputs": [
    {
     "name": "stdout",
     "output_type": "stream",
     "text": [
      "browser version 98.0.4758.109\n",
      "chrome driver version 97.0.4692.71\n",
      "please download correct chromedriver version\n"
     ]
    }
   ],
   "source": [
    "s = Service('chromedriver/chromedriver')\n",
    "driver = webdriver.Chrome(service= s)\n",
    "str1 = driver.capabilities['browserVersion']\n",
    "str2 = driver.capabilities['chrome']['chromedriverVersion'].split(' ')[0]\n",
    "print(\"browser version\", str1)\n",
    "print(\"chrome driver version\", str2)\n",
    "if str1[0:2] != str2[0:2]: \n",
    "  print(\"please download correct chromedriver version\")"
   ]
  },
  {
   "cell_type": "code",
   "execution_count": 1,
   "metadata": {},
   "outputs": [],
   "source": [
    "options = Options()\n",
    "options.add_experimental_option(\"excludeSwitches\", [\"enable-automation\"])\n",
    "options.add_experimental_option('useAutomationExtension', False)\n",
    "s = Service('chromedriver/chromedriver')\n",
    "driver = webdriver.Chrome(service= s)"
   ]
  },
  {
   "cell_type": "markdown",
   "metadata": {},
   "source": [
    "#### theMiddleMarket M&A News"
   ]
  },
  {
   "cell_type": "code",
   "execution_count": 2,
   "metadata": {},
   "outputs": [],
   "source": [
    "ma_news_url = 'https://www.themiddlemarket.com/latest-news'\n",
    "driver.get(ma_news_url)\n",
    "\n",
    "latest_news = driver.find_elements(By.XPATH,\"/html/body/main/div/div/div/div[1]/div/div\")\n",
    "latest_news = latest_news[0].text.split('\\n')\n",
    "\n",
    "ma_article_list = [i for count, i in enumerate(latest_news) if count%2 == 0 ] \n",
    "ma_date_list = [i for count, i in enumerate(latest_news) if count%2 != 0 ] \n",
    "theMiddleMarket_news_dict =  dict(zip(ma_article_list, ma_date_list))"
   ]
  },
  {
   "cell_type": "code",
   "execution_count": null,
   "metadata": {},
   "outputs": [],
   "source": [
    "theMiddleMarket_news_dict = {key: datetime.strptime(value.title(), '%B %d, %Y').date() for key, value in theMiddleMarket_news_dict.items()}\n",
    "theMiddleMarket_news_dict = {title: date for title, date in theMiddleMarket_news_dict.items() if date >= date_range_low}"
   ]
  },
  {
   "cell_type": "code",
   "execution_count": null,
   "metadata": {},
   "outputs": [],
   "source": [
    "theMiddleMarket_news_dict"
   ]
  },
  {
   "cell_type": "markdown",
   "metadata": {},
   "source": [
    "#### New York Times Mergers News"
   ]
  },
  {
   "cell_type": "code",
   "execution_count": null,
   "metadata": {},
   "outputs": [],
   "source": [
    "nyt_url = \"https://www.nytimes.com/topic/subject/mergers-acquisitions-and-divestitures\"\n",
    "driver.get(nyt_url)\n",
    "nyt_news_raw = driver.find_elements(By.XPATH, '//*[@id=\"collection-Mergers, Acquisitions and Divestitures\"]/div[1]/div')[0].text.split('\\n')"
   ]
  },
  {
   "cell_type": "code",
   "execution_count": null,
   "metadata": {},
   "outputs": [],
   "source": [
    "index_list = []\n",
    "date_list = []\n",
    "for count, text in enumerate(nyt_news_raw):\n",
    "    try:\n",
    "        a_date = datetime.strptime(text, \"%b. %d, %Y\")\n",
    "        date_list.append(a_date)\n",
    "        index_list.append(count -2)\n",
    "    except:\n",
    "        pass\n",
    "    \n",
    "title_list = [nyt_news_raw[i] for i in index_list]\n",
    "nyt_ma_news_dict = dict(zip(title_list, date_list))"
   ]
  },
  {
   "cell_type": "code",
   "execution_count": null,
   "metadata": {},
   "outputs": [],
   "source": [
    "driver.close()"
   ]
  },
  {
   "cell_type": "code",
   "execution_count": null,
   "metadata": {},
   "outputs": [],
   "source": []
  },
  {
   "cell_type": "code",
   "execution_count": null,
   "metadata": {},
   "outputs": [],
   "source": []
  },
  {
   "cell_type": "code",
   "execution_count": null,
   "metadata": {},
   "outputs": [],
   "source": []
  },
  {
   "cell_type": "code",
   "execution_count": null,
   "metadata": {},
   "outputs": [],
   "source": []
  },
  {
   "cell_type": "code",
   "execution_count": null,
   "metadata": {},
   "outputs": [],
   "source": []
  },
  {
   "cell_type": "code",
   "execution_count": null,
   "metadata": {},
   "outputs": [],
   "source": []
  },
  {
   "cell_type": "code",
   "execution_count": null,
   "metadata": {},
   "outputs": [],
   "source": []
  },
  {
   "cell_type": "code",
   "execution_count": null,
   "metadata": {},
   "outputs": [],
   "source": []
  },
  {
   "cell_type": "code",
   "execution_count": null,
   "metadata": {},
   "outputs": [],
   "source": []
  },
  {
   "cell_type": "markdown",
   "metadata": {},
   "source": [
    "#### Seeking Alpha M&A News"
   ]
  },
  {
   "cell_type": "code",
   "execution_count": null,
   "metadata": {},
   "outputs": [],
   "source": [
    "article_list = []\n",
    "formatted_date_list = []\n",
    "\n",
    "driver.get('https://seekingalpha.com/market-news/m-a?page=1')\n",
    "\n",
    "article_block = driver.find_elements(By.XPATH, \"//*[@id='content']/div/div[2]/div/div[2]/section/div/div/div/div[2]\")[0].text.split('\\n')\n",
    "\n",
    "for i, j in enumerate(article_block):\n",
    "    if i%2 == 0:\n",
    "        article_list.append(j)\n",
    "\n",
    "date_list = driver.find_elements(By.XPATH, \"//*[@id='content']/div/div[3]/div/div[2]/section/div/div/div/div[2]/article[1]/div/div/footer/span[2]\")\n",
    "date_list = [i.text for i in date_list] \n",
    "\n",
    "for a_date in date_list:\n",
    "    if 'Today' in a_date:\n",
    "        a_date = datetime.today().date()\n",
    "    elif 'Yesterday' in a_date:\n",
    "        a_date = datetime.today().date() - timedelta(days = 1)\n",
    "    elif len(a_date.split(' ')) == 3:\n",
    "        a_date = a_date + ' ' + str(datetime.today().date().year)\n",
    "        a_date = datetime.strptime(a_date, \"%a, %b. %d %Y\").date()\n",
    "    else:\n",
    "        a_date = datetime.strptime(a_date, \"%a, %b. %d, %Y\").date()\n",
    "    \n",
    "    formatted_date_list.append(a_date)"
   ]
  },
  {
   "cell_type": "code",
   "execution_count": null,
   "metadata": {},
   "outputs": [],
   "source": [
    "date_list"
   ]
  },
  {
   "cell_type": "code",
   "execution_count": null,
   "metadata": {},
   "outputs": [],
   "source": [
    "seeking_alpha_news_dict = dict(zip(article_list, formatted_date_list))"
   ]
  },
  {
   "cell_type": "code",
   "execution_count": null,
   "metadata": {},
   "outputs": [],
   "source": [
    "seeking_alpha_news_dict"
   ]
  }
 ],
 "metadata": {
  "interpreter": {
   "hash": "aee8b7b246df8f9039afb4144a1f6fd8d2ca17a180786b69acc140d282b71a49"
  },
  "kernelspec": {
   "display_name": "Python 3.9.8 64-bit",
   "language": "python",
   "name": "python3"
  },
  "language_info": {
   "codemirror_mode": {
    "name": "ipython",
    "version": 3
   },
   "file_extension": ".py",
   "mimetype": "text/x-python",
   "name": "python",
   "nbconvert_exporter": "python",
   "pygments_lexer": "ipython3",
   "version": "3.9.10"
  },
  "orig_nbformat": 4
 },
 "nbformat": 4,
 "nbformat_minor": 2
}
