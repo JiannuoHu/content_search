{
 "cells": [
  {
   "cell_type": "code",
   "execution_count": 1,
   "metadata": {},
   "outputs": [],
   "source": [
    "import json\n",
    "from pyairtable import Table\n",
    "import pandas as pd\n",
    "from fuzzywuzzy import fuzz"
   ]
  },
  {
   "cell_type": "code",
   "execution_count": 2,
   "metadata": {},
   "outputs": [],
   "source": [
    "with open(\"../airtable_apikey.json\") as f:  \n",
    "        keys = json.load(f)\n",
    "\n",
    "base_id = keys[0]['base_id']\n",
    "api_key = keys[0]['api_key']"
   ]
  },
  {
   "cell_type": "code",
   "execution_count": 3,
   "metadata": {},
   "outputs": [],
   "source": [
    "def process_airtable(airtable_output, retrive_var = []):\n",
    "\n",
    "    temp_dict = {}\n",
    "\n",
    "    for i in retrive_var:\n",
    "        if i == \"id\":\n",
    "            temp_dict[i] = airtable_output['id']\n",
    "        else:\n",
    "            if i in airtable_output['fields'].keys():\n",
    "                temp_dict[i.lower()] = airtable_output['fields'][i]\n",
    "            else:\n",
    "                temp_dict[i.lower()] = ''\n",
    "\n",
    "    return temp_dict"
   ]
  },
  {
   "cell_type": "code",
   "execution_count": 4,
   "metadata": {},
   "outputs": [],
   "source": [
    "content_table_id = keys[0]['content_table_id']\n",
    "content_table = Table(api_key, base_id, content_table_id).all()\n",
    "content_list = []\n",
    "for i in content_table:\n",
    "    temp_dict = process_airtable(i, retrive_var=['id', 'Type','Title','Writer', 'Value Props', 'Appeals to (from Value Props)'])\n",
    "    content_list.append(temp_dict)\n"
   ]
  },
  {
   "cell_type": "code",
   "execution_count": 5,
   "metadata": {},
   "outputs": [],
   "source": [
    "value_props_id = keys[0]['value_props_id']\n",
    "value_props = Table(api_key, base_id, value_props_id).all()\n",
    "\n",
    "value_props_name = []\n",
    "\n",
    "for i in value_props:\n",
    "    temp_dict = process_airtable(i, retrive_var=['id', 'Name'])\n",
    "    value_props_name.append(temp_dict)"
   ]
  },
  {
   "cell_type": "code",
   "execution_count": 6,
   "metadata": {},
   "outputs": [],
   "source": [
    "persona_table_id = keys[0]['persona_table']\n",
    "persona_table = Table(api_key, base_id, persona_table_id).all()\n",
    "\n",
    "persona_list = []\n",
    "\n",
    "for i in persona_table:\n",
    "    temp_dict = process_airtable(i, retrive_var=['id', 'Persona'])\n",
    "    persona_list.append(temp_dict)"
   ]
  },
  {
   "cell_type": "code",
   "execution_count": 7,
   "metadata": {},
   "outputs": [],
   "source": [
    "for i in content_list:\n",
    "\n",
    "    i['value props name'] = ''\n",
    "    i['persona'] = ''\n",
    "\n",
    "    if i['value props'] != '':\n",
    "        for j in i['value props']:\n",
    "            for m in value_props_name:\n",
    "                if m['id'] == j:\n",
    "                    i['value props name'] = i['value props name'] + m['name'] + ' '\n",
    "                    \n",
    "    i['value props name'] = i['value props name'].strip()\n",
    "\n",
    "    if i['appeals to (from value props)'] != '':\n",
    "        for j in i['appeals to (from value props)']:\n",
    "            for m in persona_list:\n",
    "                if m['id'] == j:\n",
    "                    i['persona'] = i['persona'] + m['persona'] + ' '\n",
    "                    \n",
    "    i['persona'] = i['persona'].strip()\n",
    "\n",
    "    if i['writer'] != '':\n",
    "        i['writer name'] = i['writer']['name']\n",
    "    else:\n",
    "        i['writer name'] = ''\n",
    "\n",
    "    del i['value props']\n",
    "    del i['appeals to (from value props)']\n",
    "    del i['writer']\n"
   ]
  },
  {
   "cell_type": "code",
   "execution_count": 8,
   "metadata": {},
   "outputs": [],
   "source": [
    "content_df = pd.DataFrame(content_list)"
   ]
  },
  {
   "cell_type": "code",
   "execution_count": 9,
   "metadata": {},
   "outputs": [],
   "source": [
    "content_df['lookup'] = content_df.apply(lambda x: x['type'] + ' ' + x.title + x['value props name'] + ' ' + x.persona + ' ' + x['writer name'], axis = 1)"
   ]
  },
  {
   "cell_type": "code",
   "execution_count": 37,
   "metadata": {},
   "outputs": [
    {
     "data": {
      "text/plain": [
       "100"
      ]
     },
     "execution_count": 37,
     "metadata": {},
     "output_type": "execute_result"
    }
   ],
   "source": [
    "fuzz.partial_ratio('christelle', 'christelle bron xbud')"
   ]
  },
  {
   "cell_type": "code",
   "execution_count": 11,
   "metadata": {},
   "outputs": [],
   "source": [
    "import jellyfish"
   ]
  },
  {
   "cell_type": "code",
   "execution_count": 30,
   "metadata": {},
   "outputs": [
    {
     "data": {
      "text/plain": [
       "'christelle'"
      ]
     },
     "execution_count": 30,
     "metadata": {},
     "output_type": "execute_result"
    }
   ],
   "source": [
    "from autocorrect import Speller\n",
    "spell = Speller(lang='en')\n",
    "\n",
    "keyword = 'christelle'\n",
    "keyword = spell(keyword)\n",
    "keyword"
   ]
  },
  {
   "cell_type": "code",
   "execution_count": 19,
   "metadata": {},
   "outputs": [],
   "source": [
    "content_df['score'] = 0\n",
    "\n",
    "for index, row in content_df.iterrows():\n",
    "    score = 0\n",
    "    for col in ['type','title','value props name', 'persona', 'writer name']:\n",
    "        if row[col] != '':\n",
    "\n",
    "            score += jellyfish.levenshtein_distance(keyword.lower(), row[col].lower())\n",
    "\n",
    "    content_df.loc[index, 'score'] = score\n"
   ]
  },
  {
   "cell_type": "code",
   "execution_count": 33,
   "metadata": {},
   "outputs": [
    {
     "data": {
      "text/plain": [
       "1"
      ]
     },
     "execution_count": 33,
     "metadata": {},
     "output_type": "execute_result"
    }
   ],
   "source": [
    "jellyfish.levenshtein_distance('christelle', 'chrstelle')"
   ]
  },
  {
   "cell_type": "code",
   "execution_count": 38,
   "metadata": {},
   "outputs": [],
   "source": [
    "content_df.sort_values('score',ascending=True)"
   ]
  }
 ],
 "metadata": {
  "interpreter": {
   "hash": "078acb8ed7ca8e404a4d70d114dca1a78d2f80c84b26e6a3994b41e5ab292809"
  },
  "kernelspec": {
   "display_name": "Python 3.9.10 ('env': venv)",
   "language": "python",
   "name": "python3"
  },
  "language_info": {
   "codemirror_mode": {
    "name": "ipython",
    "version": 3
   },
   "file_extension": ".py",
   "mimetype": "text/x-python",
   "name": "python",
   "nbconvert_exporter": "python",
   "pygments_lexer": "ipython3",
   "version": "3.9.10"
  },
  "orig_nbformat": 4
 },
 "nbformat": 4,
 "nbformat_minor": 2
}
