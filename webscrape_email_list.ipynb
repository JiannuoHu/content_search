{
 "cells": [
  {
   "cell_type": "code",
   "execution_count": 52,
   "metadata": {},
   "outputs": [],
   "source": [
    "import pandas as pd\n",
    "import time\n",
    "from selenium import webdriver\n",
    "from webdriver_manager.chrome import ChromeDriverManager\n",
    "from selenium.webdriver.common.by import By\n",
    "from selenium.webdriver.chrome.service import Service\n",
    "from selenium.webdriver.chrome.options import Options\n",
    "from selenium.webdriver.support.ui import WebDriverWait\n",
    "from selenium.webdriver.support import expected_conditions as EC"
   ]
  },
  {
   "cell_type": "code",
   "execution_count": 27,
   "metadata": {},
   "outputs": [],
   "source": [
    "options = Options()\n",
    "options.add_experimental_option(\"excludeSwitches\", [\"enable-automation\"])\n",
    "options.add_experimental_option('useAutomationExtension', False)\n",
    "\n",
    "s = Service('/Users/babyghost/.wdm/drivers/chromedriver/mac64/97.0.4692.71/chromedriver')\n",
    "browser = webdriver.Chrome(service= s, options=options); "
   ]
  },
  {
   "cell_type": "code",
   "execution_count": 28,
   "metadata": {},
   "outputs": [],
   "source": [
    "outlook_url = 'https://outlook.office.com/people/group/cbre.onmicrosoft.com/amsconsulting'\n",
    "browser.get(outlook_url)"
   ]
  },
  {
   "cell_type": "code",
   "execution_count": 29,
   "metadata": {},
   "outputs": [],
   "source": [
    "EMAILFIELD = (By.ID, \"i0116\")\n",
    "NEXTBUTTON = (By.ID, \"idSIButton9\")\n",
    "\n",
    "WebDriverWait(browser, 10).until(EC.element_to_be_clickable(EMAILFIELD)).send_keys(\"jiannuo.hu@cbre.com\")\n",
    "WebDriverWait(browser, 10).until(EC.element_to_be_clickable(NEXTBUTTON)).click()"
   ]
  },
  {
   "cell_type": "code",
   "execution_count": 31,
   "metadata": {},
   "outputs": [],
   "source": [
    "browser.find_elements(By.XPATH, \"//*[@id='bySelection']/div[2]/div/span\")[0].click()"
   ]
  },
  {
   "cell_type": "code",
   "execution_count": 32,
   "metadata": {},
   "outputs": [],
   "source": [
    "browser.find_elements(By.XPATH, \"//*[@id='passwordInput']\")[0].send_keys('Hjn@202201')\n",
    "browser.find_elements(By.XPATH, \"//*[@id='submitButton']\")[0].click()\n",
    "browser.find_elements(By.XPATH, \"//*[@id='idDiv_SAOTCS_Proofs']/div[1]/div/div/div[2]/div\")[0].click() "
   ]
  },
  {
   "cell_type": "code",
   "execution_count": 33,
   "metadata": {},
   "outputs": [],
   "source": [
    "browser.find_elements(By.XPATH, \"//*[@id='idTxtBx_SAOTCC_OTC']\")[0].send_keys('605504') "
   ]
  },
  {
   "cell_type": "code",
   "execution_count": 34,
   "metadata": {},
   "outputs": [],
   "source": [
    "browser.find_elements(By.XPATH, \"//*[@id='lightbox']/div[2]/div[2]/div/div[2]/div/div[6]/div/div/div/div\")[0].click()"
   ]
  },
  {
   "cell_type": "code",
   "execution_count": 35,
   "metadata": {},
   "outputs": [],
   "source": [
    "browser.find_elements(By.XPATH, \"//*[@id='idSIButton9']\")[0].click()"
   ]
  },
  {
   "cell_type": "code",
   "execution_count": 36,
   "metadata": {},
   "outputs": [],
   "source": [
    "browser.find_elements(By.XPATH, \"//*[@id='app']/div/div[2]/div[2]/div[2]/div[2]/div/div/div[2]/div/div/div[2]/div[1]/div/div/div/div/div[1]\")[0].click()"
   ]
  },
  {
   "cell_type": "code",
   "execution_count": 37,
   "metadata": {},
   "outputs": [],
   "source": [
    "browser.find_elements(By.XPATH, \"//*[@id='_1dA0k']/section[2]/div[2]/div[2]/button\")[0].click() "
   ]
  },
  {
   "cell_type": "code",
   "execution_count": 50,
   "metadata": {},
   "outputs": [],
   "source": [
    "browser.execute_script(\"window.scrollTo(0, document.body.scrollHeight);\")"
   ]
  },
  {
   "cell_type": "code",
   "execution_count": 51,
   "metadata": {},
   "outputs": [
    {
     "name": "stderr",
     "output_type": "stream",
     "text": [
      "/var/folders/hg/yzr2mgl56dd1fz9lpflpnsmr0000gn/T/ipykernel_84649/232583434.py:2: DeprecationWarning: find_element_by_* commands are deprecated. Please use find_element() instead\n",
      "  html = browser.find_element_by_tag_name('html')\n"
     ]
    }
   ],
   "source": [
    "from selenium.webdriver.common.keys import Keys\n",
    "html = browser.find_element_by_tag_name('html')\n",
    "html.send_keys(Keys.END)"
   ]
  },
  {
   "cell_type": "code",
   "execution_count": 55,
   "metadata": {},
   "outputs": [],
   "source": [
    "email_list_raw = browser.find_element(By.XPATH, \"//*[@id='app']/div/div[2]/div[2]/div[2]/div[2]/div/div/div[2]/div[2]/div/div/div/div/div[2]/section/div[2]/div\")\n",
    "text = email_list_raw.text"
   ]
  },
  {
   "cell_type": "code",
   "execution_count": 56,
   "metadata": {},
   "outputs": [
    {
     "data": {
      "text/plain": [
       "'Name\\nJob Title\\nRole\\nBerk, Talia @ Dallas\\nSr Business Operations Analyst\\nOwner\\nFranco, Sylvia @ Los Angeles\\nBusiness Operations Director\\nOwner\\nLankheet, Becky @ Oak Brook\\nBusiness Operations Manager\\nOwner\\nMahan-Thomas, Tahirah @ Americas Consulting\\nDirector, Managing\\nOwner\\nS\\nSPAdmin\\nOwner\\n1B\\n1.Ferency, Cathy @ Boston\\nManager, Project\\nMember\\n1\\n1.Gopal, Poornima @ Forum Analytics\\nQuality Assurance Analyst D&T\\nMember\\n1\\n1.Sheckleford-Lister, Clair @ Santa Monica\\nWorkplace Strategy Manager\\nMember\\n1\\n1.Triantafyllos, Peter @ Los Angeles\\nSr Occupancy Planner\\nMember\\n1R\\n1.Zafra, Rachel @ Rosemead\\nProject Coordinator\\nMember\\nAbraham, Bridget @ Americas Consulting\\nSr Client Strategy Conslt Dir\\nMember'"
      ]
     },
     "execution_count": 56,
     "metadata": {},
     "output_type": "execute_result"
    }
   ],
   "source": [
    "text"
   ]
  },
  {
   "cell_type": "code",
   "execution_count": 53,
   "metadata": {},
   "outputs": [],
   "source": [
    "SCROLL_PAUSE_TIME = 0.5\n",
    "last_height = browser.execute_script(\"return document.body.scrollHeight\")\n",
    "text = ''\n",
    "\n",
    "while True:\n",
    "    browser.execute_script(\"window.scrollTo(0, document.body.scrollHeight);\")\n",
    "    time.sleep(SCROLL_PAUSE_TIME)\n",
    "    \n",
    "    email_list_raw = browser.find_element(By.XPATH, \"//*[@id='app']/div/div[2]/div[2]/div[2]/div[2]/div/div/div[2]/div[2]/div/div/div/div/div[2]/section/div[2]/div/div[2]/div/div\")\n",
    "    one_batch = email_list_raw.text\n",
    "\n",
    "    new_height = browser.execute_script(\"return document.body.scrollHeight\")\n",
    "\n",
    "    if new_height == last_height:\n",
    "        break\n",
    "    last_height = new_height\n",
    "    text = text + one_batch"
   ]
  },
  {
   "cell_type": "code",
   "execution_count": 54,
   "metadata": {},
   "outputs": [
    {
     "data": {
      "text/plain": [
       "''"
      ]
     },
     "execution_count": 54,
     "metadata": {},
     "output_type": "execute_result"
    }
   ],
   "source": [
    "text"
   ]
  }
 ],
 "metadata": {
  "interpreter": {
   "hash": "949777d72b0d2535278d3dc13498b2535136f6dfe0678499012e853ee9abcab1"
  },
  "kernelspec": {
   "display_name": "Python 3.8.7 64-bit",
   "language": "python",
   "name": "python3"
  },
  "language_info": {
   "codemirror_mode": {
    "name": "ipython",
    "version": 3
   },
   "file_extension": ".py",
   "mimetype": "text/x-python",
   "name": "python",
   "nbconvert_exporter": "python",
   "pygments_lexer": "ipython3",
   "version": "3.9.10"
  },
  "orig_nbformat": 4
 },
 "nbformat": 4,
 "nbformat_minor": 2
}
